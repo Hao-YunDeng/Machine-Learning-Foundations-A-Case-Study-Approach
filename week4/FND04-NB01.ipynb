{
 "cells": [
  {
   "cell_type": "markdown",
   "metadata": {},
   "source": [
    "# Document retrieval from Wikipedia data"
   ]
  },
  {
   "cell_type": "code",
   "execution_count": 1,
   "metadata": {},
   "outputs": [],
   "source": [
    "import turicreate"
   ]
  },
  {
   "cell_type": "markdown",
   "metadata": {},
   "source": [
    "# Load some text data from Wikipedia"
   ]
  },
  {
   "cell_type": "code",
   "execution_count": 5,
   "metadata": {},
   "outputs": [],
   "source": [
    "people = turicreate.SFrame('people_wiki.sframe')"
   ]
  },
  {
   "cell_type": "code",
   "execution_count": 5,
   "metadata": {},
   "outputs": [
    {
     "data": {
      "text/html": [
       "<div style=\"max-height:1000px;max-width:1500px;overflow:auto;\"><table frame=\"box\" rules=\"cols\">\n",
       "    <tr>\n",
       "        <th style=\"padding-left: 1em; padding-right: 1em; text-align: center\">URI</th>\n",
       "        <th style=\"padding-left: 1em; padding-right: 1em; text-align: center\">name</th>\n",
       "        <th style=\"padding-left: 1em; padding-right: 1em; text-align: center\">text</th>\n",
       "    </tr>\n",
       "    <tr>\n",
       "        <td style=\"padding-left: 1em; padding-right: 1em; text-align: center; vertical-align: top\">&lt;http://dbpedia.org/resou<br>rce/Digby_Morrell&gt; ...</td>\n",
       "        <td style=\"padding-left: 1em; padding-right: 1em; text-align: center; vertical-align: top\">Digby Morrell</td>\n",
       "        <td style=\"padding-left: 1em; padding-right: 1em; text-align: center; vertical-align: top\">digby morrell born 10<br>october 1979 is a former ...</td>\n",
       "    </tr>\n",
       "    <tr>\n",
       "        <td style=\"padding-left: 1em; padding-right: 1em; text-align: center; vertical-align: top\">&lt;http://dbpedia.org/resou<br>rce/Alfred_J._Lewy&gt; ...</td>\n",
       "        <td style=\"padding-left: 1em; padding-right: 1em; text-align: center; vertical-align: top\">Alfred J. Lewy</td>\n",
       "        <td style=\"padding-left: 1em; padding-right: 1em; text-align: center; vertical-align: top\">alfred j lewy aka sandy<br>lewy graduated from ...</td>\n",
       "    </tr>\n",
       "    <tr>\n",
       "        <td style=\"padding-left: 1em; padding-right: 1em; text-align: center; vertical-align: top\">&lt;http://dbpedia.org/resou<br>rce/Harpdog_Brown&gt; ...</td>\n",
       "        <td style=\"padding-left: 1em; padding-right: 1em; text-align: center; vertical-align: top\">Harpdog Brown</td>\n",
       "        <td style=\"padding-left: 1em; padding-right: 1em; text-align: center; vertical-align: top\">harpdog brown is a singer<br>and harmonica player who ...</td>\n",
       "    </tr>\n",
       "    <tr>\n",
       "        <td style=\"padding-left: 1em; padding-right: 1em; text-align: center; vertical-align: top\">&lt;http://dbpedia.org/resou<br>rce/Franz_Rottensteiner&gt; ...</td>\n",
       "        <td style=\"padding-left: 1em; padding-right: 1em; text-align: center; vertical-align: top\">Franz Rottensteiner</td>\n",
       "        <td style=\"padding-left: 1em; padding-right: 1em; text-align: center; vertical-align: top\">franz rottensteiner born<br>in waidmannsfeld lower ...</td>\n",
       "    </tr>\n",
       "    <tr>\n",
       "        <td style=\"padding-left: 1em; padding-right: 1em; text-align: center; vertical-align: top\">&lt;http://dbpedia.org/resou<br>rce/G-Enka&gt; ...</td>\n",
       "        <td style=\"padding-left: 1em; padding-right: 1em; text-align: center; vertical-align: top\">G-Enka</td>\n",
       "        <td style=\"padding-left: 1em; padding-right: 1em; text-align: center; vertical-align: top\">henry krvits born 30<br>december 1974 in tallinn ...</td>\n",
       "    </tr>\n",
       "    <tr>\n",
       "        <td style=\"padding-left: 1em; padding-right: 1em; text-align: center; vertical-align: top\">&lt;http://dbpedia.org/resou<br>rce/Sam_Henderson&gt; ...</td>\n",
       "        <td style=\"padding-left: 1em; padding-right: 1em; text-align: center; vertical-align: top\">Sam Henderson</td>\n",
       "        <td style=\"padding-left: 1em; padding-right: 1em; text-align: center; vertical-align: top\">sam henderson born<br>october 18 1969 is an ...</td>\n",
       "    </tr>\n",
       "    <tr>\n",
       "        <td style=\"padding-left: 1em; padding-right: 1em; text-align: center; vertical-align: top\">&lt;http://dbpedia.org/resou<br>rce/Aaron_LaCrate&gt; ...</td>\n",
       "        <td style=\"padding-left: 1em; padding-right: 1em; text-align: center; vertical-align: top\">Aaron LaCrate</td>\n",
       "        <td style=\"padding-left: 1em; padding-right: 1em; text-align: center; vertical-align: top\">aaron lacrate is an<br>american music producer ...</td>\n",
       "    </tr>\n",
       "    <tr>\n",
       "        <td style=\"padding-left: 1em; padding-right: 1em; text-align: center; vertical-align: top\">&lt;http://dbpedia.org/resou<br>rce/Trevor_Ferguson&gt; ...</td>\n",
       "        <td style=\"padding-left: 1em; padding-right: 1em; text-align: center; vertical-align: top\">Trevor Ferguson</td>\n",
       "        <td style=\"padding-left: 1em; padding-right: 1em; text-align: center; vertical-align: top\">trevor ferguson aka john<br>farrow born 11 november ...</td>\n",
       "    </tr>\n",
       "    <tr>\n",
       "        <td style=\"padding-left: 1em; padding-right: 1em; text-align: center; vertical-align: top\">&lt;http://dbpedia.org/resou<br>rce/Grant_Nelson&gt; ...</td>\n",
       "        <td style=\"padding-left: 1em; padding-right: 1em; text-align: center; vertical-align: top\">Grant Nelson</td>\n",
       "        <td style=\"padding-left: 1em; padding-right: 1em; text-align: center; vertical-align: top\">grant nelson born 27<br>april 1971 in london  ...</td>\n",
       "    </tr>\n",
       "    <tr>\n",
       "        <td style=\"padding-left: 1em; padding-right: 1em; text-align: center; vertical-align: top\">&lt;http://dbpedia.org/resou<br>rce/Cathy_Caruth&gt; ...</td>\n",
       "        <td style=\"padding-left: 1em; padding-right: 1em; text-align: center; vertical-align: top\">Cathy Caruth</td>\n",
       "        <td style=\"padding-left: 1em; padding-right: 1em; text-align: center; vertical-align: top\">cathy caruth born 1955 is<br>frank h t rhodes ...</td>\n",
       "    </tr>\n",
       "</table>\n",
       "[59071 rows x 3 columns]<br/>Note: Only the head of the SFrame is printed.<br/>You can use print_rows(num_rows=m, num_columns=n) to print more rows and columns.\n",
       "</div>"
      ],
      "text/plain": [
       "Columns:\n",
       "\tURI\tstr\n",
       "\tname\tstr\n",
       "\ttext\tstr\n",
       "\n",
       "Rows: 59071\n",
       "\n",
       "Data:\n",
       "+-------------------------------+---------------------+\n",
       "|              URI              |         name        |\n",
       "+-------------------------------+---------------------+\n",
       "| <http://dbpedia.org/resour... |    Digby Morrell    |\n",
       "| <http://dbpedia.org/resour... |    Alfred J. Lewy   |\n",
       "| <http://dbpedia.org/resour... |    Harpdog Brown    |\n",
       "| <http://dbpedia.org/resour... | Franz Rottensteiner |\n",
       "| <http://dbpedia.org/resour... |        G-Enka       |\n",
       "| <http://dbpedia.org/resour... |    Sam Henderson    |\n",
       "| <http://dbpedia.org/resour... |    Aaron LaCrate    |\n",
       "| <http://dbpedia.org/resour... |   Trevor Ferguson   |\n",
       "| <http://dbpedia.org/resour... |     Grant Nelson    |\n",
       "| <http://dbpedia.org/resour... |     Cathy Caruth    |\n",
       "+-------------------------------+---------------------+\n",
       "+-------------------------------+\n",
       "|              text             |\n",
       "+-------------------------------+\n",
       "| digby morrell born 10 octo... |\n",
       "| alfred j lewy aka sandy le... |\n",
       "| harpdog brown is a singer ... |\n",
       "| franz rottensteiner born i... |\n",
       "| henry krvits born 30 decem... |\n",
       "| sam henderson born october... |\n",
       "| aaron lacrate is an americ... |\n",
       "| trevor ferguson aka john f... |\n",
       "| grant nelson born 27 april... |\n",
       "| cathy caruth born 1955 is ... |\n",
       "+-------------------------------+\n",
       "[59071 rows x 3 columns]\n",
       "Note: Only the head of the SFrame is printed.\n",
       "You can use print_rows(num_rows=m, num_columns=n) to print more rows and columns."
      ]
     },
     "execution_count": 5,
     "metadata": {},
     "output_type": "execute_result"
    }
   ],
   "source": [
    "people"
   ]
  },
  {
   "cell_type": "markdown",
   "metadata": {},
   "source": [
    "# Explore data"
   ]
  },
  {
   "cell_type": "markdown",
   "metadata": {},
   "source": [
    "## Taking a look at the entry for President Obama"
   ]
  },
  {
   "cell_type": "code",
   "execution_count": 6,
   "metadata": {},
   "outputs": [],
   "source": [
    "obama = people[people['name'] == 'Barack Obama']"
   ]
  },
  {
   "cell_type": "code",
   "execution_count": 7,
   "metadata": {},
   "outputs": [
    {
     "data": {
      "text/html": [
       "<div style=\"max-height:1000px;max-width:1500px;overflow:auto;\"><table frame=\"box\" rules=\"cols\">\n",
       "    <tr>\n",
       "        <th style=\"padding-left: 1em; padding-right: 1em; text-align: center\">URI</th>\n",
       "        <th style=\"padding-left: 1em; padding-right: 1em; text-align: center\">name</th>\n",
       "        <th style=\"padding-left: 1em; padding-right: 1em; text-align: center\">text</th>\n",
       "    </tr>\n",
       "    <tr>\n",
       "        <td style=\"padding-left: 1em; padding-right: 1em; text-align: center; vertical-align: top\">&lt;http://dbpedia.org/resou<br>rce/Barack_Obama&gt; ...</td>\n",
       "        <td style=\"padding-left: 1em; padding-right: 1em; text-align: center; vertical-align: top\">Barack Obama</td>\n",
       "        <td style=\"padding-left: 1em; padding-right: 1em; text-align: center; vertical-align: top\">barack hussein obama ii<br>brk husen bm born august ...</td>\n",
       "    </tr>\n",
       "</table>\n",
       "[? rows x 3 columns]<br/>Note: Only the head of the SFrame is printed. This SFrame is lazily evaluated.<br/>You can use sf.materialize() to force materialization.\n",
       "</div>"
      ],
      "text/plain": [
       "Columns:\n",
       "\tURI\tstr\n",
       "\tname\tstr\n",
       "\ttext\tstr\n",
       "\n",
       "Rows: Unknown\n",
       "\n",
       "Data:\n",
       "+-------------------------------+--------------+-------------------------------+\n",
       "|              URI              |     name     |              text             |\n",
       "+-------------------------------+--------------+-------------------------------+\n",
       "| <http://dbpedia.org/resour... | Barack Obama | barack hussein obama ii br... |\n",
       "+-------------------------------+--------------+-------------------------------+\n",
       "[? rows x 3 columns]\n",
       "Note: Only the head of the SFrame is printed. This SFrame is lazily evaluated.\n",
       "You can use sf.materialize() to force materialization."
      ]
     },
     "execution_count": 7,
     "metadata": {},
     "output_type": "execute_result"
    }
   ],
   "source": [
    "obama"
   ]
  },
  {
   "cell_type": "code",
   "execution_count": 8,
   "metadata": {},
   "outputs": [
    {
     "data": {
      "text/plain": [
       "dtype: str\n",
       "Rows: ?\n",
       "['barack hussein obama ii brk husen bm born august 4 1961 is the 44th and current president of the united states and the first african american to hold the office born in honolulu hawaii obama is a graduate of columbia university and harvard law school where he served as president of the harvard law review he was a community organizer in chicago before earning his law degree he worked as a civil rights attorney and taught constitutional law at the university of chicago law school from 1992 to 2004 he served three terms representing the 13th district in the illinois senate from 1997 to 2004 running unsuccessfully for the united states house of representatives in 2000in 2004 obama received national attention during his campaign to represent illinois in the united states senate with his victory in the march democratic party primary his keynote address at the democratic national convention in july and his election to the senate in november he began his presidential campaign in 2007 and after a close primary campaign against hillary rodham clinton in 2008 he won sufficient delegates in the democratic party primaries to receive the presidential nomination he then defeated republican nominee john mccain in the general election and was inaugurated as president on january 20 2009 nine months after his election obama was named the 2009 nobel peace prize laureateduring his first two years in office obama signed into law economic stimulus legislation in response to the great recession in the form of the american recovery and reinvestment act of 2009 and the tax relief unemployment insurance reauthorization and job creation act of 2010 other major domestic initiatives in his first term included the patient protection and affordable care act often referred to as obamacare the doddfrank wall street reform and consumer protection act and the dont ask dont tell repeal act of 2010 in foreign policy obama ended us military involvement in the iraq war increased us troop levels in afghanistan signed the new start arms control treaty with russia ordered us military involvement in libya and ordered the military operation that resulted in the death of osama bin laden in january 2011 the republicans regained control of the house of representatives as the democratic party lost a total of 63 seats and after a lengthy debate over federal spending and whether or not to raise the nations debt limit obama signed the budget control act of 2011 and the american taxpayer relief act of 2012obama was reelected president in november 2012 defeating republican nominee mitt romney and was sworn in for a second term on january 20 2013 during his second term obama has promoted domestic policies related to gun control in response to the sandy hook elementary school shooting and has called for full equality for lgbt americans while his administration has filed briefs which urged the supreme court to strike down the defense of marriage act of 1996 and californias proposition 8 as unconstitutional in foreign policy obama ordered us military involvement in iraq in response to gains made by the islamic state in iraq after the 2011 withdrawal from iraq continued the process of ending us combat operations in afghanistan and has sought to normalize us relations with cuba', ... ]"
      ]
     },
     "execution_count": 8,
     "metadata": {},
     "output_type": "execute_result"
    }
   ],
   "source": [
    "obama['text']"
   ]
  },
  {
   "cell_type": "markdown",
   "metadata": {},
   "source": [
    "## Explore the entry for actor George Clooney"
   ]
  },
  {
   "cell_type": "code",
   "execution_count": 9,
   "metadata": {},
   "outputs": [
    {
     "data": {
      "text/plain": [
       "dtype: str\n",
       "Rows: ?\n",
       "['george timothy clooney born may 6 1961 is an american actor writer producer director and activist he has received three golden globe awards for his work as an actor and two academy awards one for acting and the other for producingclooney made his acting debut on television in 1978 and later gained wide recognition in his role as dr doug ross on the longrunning medical drama er from 1994 to 1999 for which he received two emmy award nominations while working on er he began attracting a variety of leading roles in films including the superhero film batman robin 1997 and the crime comedy out of sight 1998 in which he first worked with a director who would become a longtime collaborator steven soderbergh in 1999 clooney took the lead role in three kings a wellreceived war satire set during the gulf warin 2001 clooneys fame widened with the release of his biggest commercial success the heist comedy oceans eleven the first of the film trilogy a remake of the 1960 film with frank sinatra as danny ocean he made his directorial debut a year later with the biographical thriller confessions of a dangerous mind and has since directed the drama good night and good luck 2005 the sports comedy leatherheads 2008 the political drama the ides of march 2011 and the comedydrama war film the monuments men 2014he won an academy award for best supporting actor for the middle east thriller syriana 2005 and subsequently earned best actor nominations for the legal thriller michael clayton 2007 the comedydrama up in the air 2009 and the drama the descendants 2011 in 2013 he received the academy award for best picture for producing the political thriller argo alongside ben affleck and grant heslov he is the only person ever to be nominated for academy awards in six categoriesclooney is sometimes described as one of the most handsome men in the world in 2005 tv guide ranked clooney no 1 on its 50 sexiest stars of all time list in 2009 he was included in times annual time 100 as one of the most influential people in the world clooney is also noted for his political activism and has served as one of the united nations messengers of peace since january 31 2008 his humanitarian work includes his advocacy of finding a resolution for the darfur conflict raising funds for the 2010 haiti earthquake 2004 tsunami and 911 victims and creating documentaries such as sand and sorrow to raise awareness about international crises he is also a member of the council on foreign relations', ... ]"
      ]
     },
     "execution_count": 9,
     "metadata": {},
     "output_type": "execute_result"
    }
   ],
   "source": [
    "clooney = people[people['name'] == 'George Clooney']\n",
    "clooney['text']"
   ]
  },
  {
   "cell_type": "markdown",
   "metadata": {},
   "source": [
    "# Word counts for Obama acticle"
   ]
  },
  {
   "cell_type": "code",
   "execution_count": 34,
   "metadata": {},
   "outputs": [],
   "source": [
    "obama['word_count'] = turicreate.text_analytics.count_words(obama['text'])"
   ]
  },
  {
   "cell_type": "code",
   "execution_count": 35,
   "metadata": {},
   "outputs": [
    {
     "data": {
      "text/html": [
       "<div style=\"max-height:1000px;max-width:1500px;overflow:auto;\"><table frame=\"box\" rules=\"cols\">\n",
       "    <tr>\n",
       "        <th style=\"padding-left: 1em; padding-right: 1em; text-align: center\">URI</th>\n",
       "        <th style=\"padding-left: 1em; padding-right: 1em; text-align: center\">name</th>\n",
       "        <th style=\"padding-left: 1em; padding-right: 1em; text-align: center\">text</th>\n",
       "        <th style=\"padding-left: 1em; padding-right: 1em; text-align: center\">word_count</th>\n",
       "    </tr>\n",
       "    <tr>\n",
       "        <td style=\"padding-left: 1em; padding-right: 1em; text-align: center; vertical-align: top\">&lt;http://dbpedia.org/resou<br>rce/Barack_Obama&gt; ...</td>\n",
       "        <td style=\"padding-left: 1em; padding-right: 1em; text-align: center; vertical-align: top\">Barack Obama</td>\n",
       "        <td style=\"padding-left: 1em; padding-right: 1em; text-align: center; vertical-align: top\">barack hussein obama ii<br>brk husen bm born august ...</td>\n",
       "        <td style=\"padding-left: 1em; padding-right: 1em; text-align: center; vertical-align: top\">{&#x27;cuba&#x27;: 1.0,<br>&#x27;relations&#x27;: 1.0, ...</td>\n",
       "    </tr>\n",
       "</table>\n",
       "[1 rows x 4 columns]<br/>\n",
       "</div>"
      ],
      "text/plain": [
       "Columns:\n",
       "\tURI\tstr\n",
       "\tname\tstr\n",
       "\ttext\tstr\n",
       "\tword_count\tdict\n",
       "\n",
       "Rows: 1\n",
       "\n",
       "Data:\n",
       "+-------------------------------+--------------+-------------------------------+\n",
       "|              URI              |     name     |              text             |\n",
       "+-------------------------------+--------------+-------------------------------+\n",
       "| <http://dbpedia.org/resour... | Barack Obama | barack hussein obama ii br... |\n",
       "+-------------------------------+--------------+-------------------------------+\n",
       "+-------------------------------+\n",
       "|           word_count          |\n",
       "+-------------------------------+\n",
       "| {'cuba': 1.0, 'relations':... |\n",
       "+-------------------------------+\n",
       "[1 rows x 4 columns]"
      ]
     },
     "execution_count": 35,
     "metadata": {},
     "output_type": "execute_result"
    }
   ],
   "source": [
    "obama"
   ]
  },
  {
   "cell_type": "code",
   "execution_count": 36,
   "metadata": {},
   "outputs": [
    {
     "name": "stdout",
     "output_type": "stream",
     "text": [
      "[{'cuba': 1.0, 'relations': 1.0, 'sought': 1.0, 'combat': 1.0, 'ending': 1.0, 'withdrawal': 1.0, 'state': 1.0, 'islamic': 1.0, 'by': 1.0, 'gains': 1.0, 'unconstitutional': 1.0, '8': 1.0, 'marriage': 1.0, 'down': 1.0, 'urged': 1.0, 'process': 1.0, 'which': 1.0, 'filed': 1.0, 'administration': 1.0, 'while': 1.0, 'americans': 1.0, 'full': 1.0, 'lgbt': 1.0, 'called': 1.0, 'proposition': 1.0, 'shooting': 1.0, 'elementary': 1.0, 'gun': 1.0, 'related': 1.0, 'policies': 1.0, 'promoted': 1.0, 'supreme': 1.0, 'has': 4.0, '2012': 1.0, 'reelected': 1.0, '2012obama': 1.0, 'continued': 1.0, 'budget': 1.0, 'californias': 1.0, 'limit': 1.0, 'nations': 1.0, 'briefs': 1.0, 'not': 1.0, 'or': 1.0, 'lengthy': 1.0, '63': 1.0, 'lost': 1.0, '2011': 3.0, 'laden': 1.0, 'against': 1.0, 'osama': 1.0, 'obamacare': 1.0, 'that': 1.0, 'defense': 1.0, 'national': 2.0, 'operation': 1.0, 'ordered': 3.0, 'made': 1.0, 'earning': 1.0, 'control': 4.0, 'victory': 1.0, 'arms': 1.0, 'afghanistan': 2.0, 'economic': 1.0, 'three': 1.0, 'troop': 1.0, 'primaries': 1.0, 'war': 1.0, 'involvement': 3.0, 'with': 3.0, 'foreign': 2.0, 'relief': 2.0, 'repeal': 1.0, 'convention': 1.0, 'street': 1.0, 'referred': 1.0, 'military': 4.0, 'constitutional': 1.0, 'consumer': 1.0, 'care': 1.0, 'major': 1.0, 'patient': 1.0, 'start': 1.0, 'whether': 1.0, 'federal': 1.0, 'term': 3.0, 'initiatives': 1.0, 'ask': 1.0, 'domestic': 2.0, 'increased': 1.0, 'other': 1.0, 'over': 1.0, 'democratic': 4.0, 'creation': 1.0, 'romney': 1.0, 'job': 1.0, 'school': 3.0, 'russia': 1.0, 'reauthorization': 1.0, 'degree': 1.0, 'insurance': 1.0, 'unemployment': 1.0, 'normalize': 1.0, 'tax': 1.0, 'reinvestment': 1.0, 'recovery': 1.0, 'form': 1.0, 'into': 1.0, 'recession': 1.0, 'libya': 1.0, 'states': 3.0, 'great': 1.0, 'sandy': 1.0, 'legislation': 1.0, 'stimulus': 1.0, 'mitt': 1.0, 'levels': 1.0, 'reform': 1.0, '1961': 1.0, 'as': 6.0, 'doddfrank': 1.0, 'operations': 1.0, 'sworn': 1.0, 'years': 1.0, 'laureateduring': 1.0, 'prize': 1.0, '1996': 1.0, 'named': 1.0, 'nine': 1.0, '2009': 3.0, '20': 2.0, 'included': 1.0, 'began': 1.0, 'on': 2.0, '13th': 1.0, 'inaugurated': 1.0, 'to': 14.0, 'general': 1.0, 'second': 2.0, 'rodham': 1.0, 'two': 1.0, 'john': 1.0, 'address': 1.0, 'sufficient': 1.0, 'protection': 2.0, 'hold': 1.0, 'won': 1.0, 'hillary': 1.0, 'born': 2.0, 'close': 1.0, 'after': 4.0, 'a': 7.0, 'treaty': 1.0, 'seats': 1.0, 'november': 2.0, 'election': 3.0, 'wall': 1.0, 'presidential': 2.0, 'often': 1.0, 'july': 1.0, 'organizer': 1.0, 'primary': 2.0, 'nobel': 1.0, 'party': 3.0, 'court': 1.0, 'march': 1.0, '1992': 1.0, 'bm': 1.0, 'keynote': 1.0, 'campaign': 3.0, '2000in': 1.0, 'clinton': 1.0, 'during': 2.0, 'ended': 1.0, 'he': 7.0, 'house': 2.0, 'bin': 1.0, 'and': 21.0, 'senate': 3.0, 'attention': 1.0, 'district': 1.0, 'new': 1.0, 'worked': 1.0, 'representing': 1.0, 'mccain': 1.0, 'current': 1.0, 'january': 3.0, 'terms': 1.0, '2004': 3.0, '2010': 2.0, '2008': 1.0, 'from': 3.0, 'months': 1.0, 'policy': 2.0, 'at': 2.0, 'strike': 1.0, 'for': 4.0, 'civil': 1.0, 'taught': 1.0, 'brk': 1.0, 'attorney': 1.0, 'running': 1.0, 'before': 1.0, 'then': 1.0, 'chicago': 2.0, '4': 1.0, 'community': 1.0, '1997': 1.0, 'resulted': 1.0, 'debt': 1.0, 'illinois': 2.0, 'harvard': 2.0, 'us': 6.0, 'review': 1.0, 'nomination': 1.0, 'taxpayer': 1.0, 'death': 1.0, 'law': 6.0, 'husen': 1.0, 'dont': 2.0, 'spending': 1.0, 'served': 2.0, 'equality': 1.0, 'iraq': 4.0, 'where': 1.0, 'columbia': 1.0, 'unsuccessfully': 1.0, 'was': 5.0, 'hawaii': 1.0, 'total': 1.0, '2007': 1.0, 'hook': 1.0, 'debate': 1.0, 'honolulu': 1.0, 'raise': 1.0, 'barack': 1.0, 'tell': 1.0, 'affordable': 1.0, 'first': 3.0, 'obama': 9.0, 'hussein': 1.0, '2013': 1.0, 'republicans': 1.0, 'in': 30.0, 'office': 2.0, 'american': 3.0, 'graduate': 1.0, 'is': 2.0, 'peace': 1.0, 'regained': 1.0, 'represent': 1.0, 'defeating': 1.0, 'signed': 3.0, 'president': 4.0, 'united': 3.0, 'african': 1.0, 'representatives': 2.0, 'nominee': 2.0, '44th': 1.0, 'delegates': 1.0, 'the': 40.0, 'his': 11.0, 'august': 1.0, 'republican': 2.0, 'defeated': 1.0, 'university': 2.0, 'received': 1.0, 'of': 18.0, 'receive': 1.0, 'response': 3.0, 'ii': 1.0, 'act': 8.0, 'rights': 1.0}]\n"
     ]
    }
   ],
   "source": [
    "print(obama['word_count'])"
   ]
  },
  {
   "cell_type": "markdown",
   "metadata": {},
   "source": [
    "## Find most common words in Obama article"
   ]
  },
  {
   "cell_type": "code",
   "execution_count": 37,
   "metadata": {},
   "outputs": [
    {
     "data": {
      "text/html": [
       "<div style=\"max-height:1000px;max-width:1500px;overflow:auto;\"><table frame=\"box\" rules=\"cols\">\n",
       "    <tr>\n",
       "        <th style=\"padding-left: 1em; padding-right: 1em; text-align: center\">URI</th>\n",
       "        <th style=\"padding-left: 1em; padding-right: 1em; text-align: center\">name</th>\n",
       "        <th style=\"padding-left: 1em; padding-right: 1em; text-align: center\">text</th>\n",
       "        <th style=\"padding-left: 1em; padding-right: 1em; text-align: center\">word</th>\n",
       "        <th style=\"padding-left: 1em; padding-right: 1em; text-align: center\">count</th>\n",
       "    </tr>\n",
       "    <tr>\n",
       "        <td style=\"padding-left: 1em; padding-right: 1em; text-align: center; vertical-align: top\">&lt;http://dbpedia.org/resou<br>rce/Barack_Obama&gt; ...</td>\n",
       "        <td style=\"padding-left: 1em; padding-right: 1em; text-align: center; vertical-align: top\">Barack Obama</td>\n",
       "        <td style=\"padding-left: 1em; padding-right: 1em; text-align: center; vertical-align: top\">barack hussein obama ii<br>brk husen bm born august ...</td>\n",
       "        <td style=\"padding-left: 1em; padding-right: 1em; text-align: center; vertical-align: top\">cuba</td>\n",
       "        <td style=\"padding-left: 1em; padding-right: 1em; text-align: center; vertical-align: top\">1.0</td>\n",
       "    </tr>\n",
       "    <tr>\n",
       "        <td style=\"padding-left: 1em; padding-right: 1em; text-align: center; vertical-align: top\">&lt;http://dbpedia.org/resou<br>rce/Barack_Obama&gt; ...</td>\n",
       "        <td style=\"padding-left: 1em; padding-right: 1em; text-align: center; vertical-align: top\">Barack Obama</td>\n",
       "        <td style=\"padding-left: 1em; padding-right: 1em; text-align: center; vertical-align: top\">barack hussein obama ii<br>brk husen bm born august ...</td>\n",
       "        <td style=\"padding-left: 1em; padding-right: 1em; text-align: center; vertical-align: top\">relations</td>\n",
       "        <td style=\"padding-left: 1em; padding-right: 1em; text-align: center; vertical-align: top\">1.0</td>\n",
       "    </tr>\n",
       "    <tr>\n",
       "        <td style=\"padding-left: 1em; padding-right: 1em; text-align: center; vertical-align: top\">&lt;http://dbpedia.org/resou<br>rce/Barack_Obama&gt; ...</td>\n",
       "        <td style=\"padding-left: 1em; padding-right: 1em; text-align: center; vertical-align: top\">Barack Obama</td>\n",
       "        <td style=\"padding-left: 1em; padding-right: 1em; text-align: center; vertical-align: top\">barack hussein obama ii<br>brk husen bm born august ...</td>\n",
       "        <td style=\"padding-left: 1em; padding-right: 1em; text-align: center; vertical-align: top\">sought</td>\n",
       "        <td style=\"padding-left: 1em; padding-right: 1em; text-align: center; vertical-align: top\">1.0</td>\n",
       "    </tr>\n",
       "    <tr>\n",
       "        <td style=\"padding-left: 1em; padding-right: 1em; text-align: center; vertical-align: top\">&lt;http://dbpedia.org/resou<br>rce/Barack_Obama&gt; ...</td>\n",
       "        <td style=\"padding-left: 1em; padding-right: 1em; text-align: center; vertical-align: top\">Barack Obama</td>\n",
       "        <td style=\"padding-left: 1em; padding-right: 1em; text-align: center; vertical-align: top\">barack hussein obama ii<br>brk husen bm born august ...</td>\n",
       "        <td style=\"padding-left: 1em; padding-right: 1em; text-align: center; vertical-align: top\">combat</td>\n",
       "        <td style=\"padding-left: 1em; padding-right: 1em; text-align: center; vertical-align: top\">1.0</td>\n",
       "    </tr>\n",
       "    <tr>\n",
       "        <td style=\"padding-left: 1em; padding-right: 1em; text-align: center; vertical-align: top\">&lt;http://dbpedia.org/resou<br>rce/Barack_Obama&gt; ...</td>\n",
       "        <td style=\"padding-left: 1em; padding-right: 1em; text-align: center; vertical-align: top\">Barack Obama</td>\n",
       "        <td style=\"padding-left: 1em; padding-right: 1em; text-align: center; vertical-align: top\">barack hussein obama ii<br>brk husen bm born august ...</td>\n",
       "        <td style=\"padding-left: 1em; padding-right: 1em; text-align: center; vertical-align: top\">ending</td>\n",
       "        <td style=\"padding-left: 1em; padding-right: 1em; text-align: center; vertical-align: top\">1.0</td>\n",
       "    </tr>\n",
       "    <tr>\n",
       "        <td style=\"padding-left: 1em; padding-right: 1em; text-align: center; vertical-align: top\">&lt;http://dbpedia.org/resou<br>rce/Barack_Obama&gt; ...</td>\n",
       "        <td style=\"padding-left: 1em; padding-right: 1em; text-align: center; vertical-align: top\">Barack Obama</td>\n",
       "        <td style=\"padding-left: 1em; padding-right: 1em; text-align: center; vertical-align: top\">barack hussein obama ii<br>brk husen bm born august ...</td>\n",
       "        <td style=\"padding-left: 1em; padding-right: 1em; text-align: center; vertical-align: top\">withdrawal</td>\n",
       "        <td style=\"padding-left: 1em; padding-right: 1em; text-align: center; vertical-align: top\">1.0</td>\n",
       "    </tr>\n",
       "    <tr>\n",
       "        <td style=\"padding-left: 1em; padding-right: 1em; text-align: center; vertical-align: top\">&lt;http://dbpedia.org/resou<br>rce/Barack_Obama&gt; ...</td>\n",
       "        <td style=\"padding-left: 1em; padding-right: 1em; text-align: center; vertical-align: top\">Barack Obama</td>\n",
       "        <td style=\"padding-left: 1em; padding-right: 1em; text-align: center; vertical-align: top\">barack hussein obama ii<br>brk husen bm born august ...</td>\n",
       "        <td style=\"padding-left: 1em; padding-right: 1em; text-align: center; vertical-align: top\">state</td>\n",
       "        <td style=\"padding-left: 1em; padding-right: 1em; text-align: center; vertical-align: top\">1.0</td>\n",
       "    </tr>\n",
       "    <tr>\n",
       "        <td style=\"padding-left: 1em; padding-right: 1em; text-align: center; vertical-align: top\">&lt;http://dbpedia.org/resou<br>rce/Barack_Obama&gt; ...</td>\n",
       "        <td style=\"padding-left: 1em; padding-right: 1em; text-align: center; vertical-align: top\">Barack Obama</td>\n",
       "        <td style=\"padding-left: 1em; padding-right: 1em; text-align: center; vertical-align: top\">barack hussein obama ii<br>brk husen bm born august ...</td>\n",
       "        <td style=\"padding-left: 1em; padding-right: 1em; text-align: center; vertical-align: top\">islamic</td>\n",
       "        <td style=\"padding-left: 1em; padding-right: 1em; text-align: center; vertical-align: top\">1.0</td>\n",
       "    </tr>\n",
       "    <tr>\n",
       "        <td style=\"padding-left: 1em; padding-right: 1em; text-align: center; vertical-align: top\">&lt;http://dbpedia.org/resou<br>rce/Barack_Obama&gt; ...</td>\n",
       "        <td style=\"padding-left: 1em; padding-right: 1em; text-align: center; vertical-align: top\">Barack Obama</td>\n",
       "        <td style=\"padding-left: 1em; padding-right: 1em; text-align: center; vertical-align: top\">barack hussein obama ii<br>brk husen bm born august ...</td>\n",
       "        <td style=\"padding-left: 1em; padding-right: 1em; text-align: center; vertical-align: top\">by</td>\n",
       "        <td style=\"padding-left: 1em; padding-right: 1em; text-align: center; vertical-align: top\">1.0</td>\n",
       "    </tr>\n",
       "    <tr>\n",
       "        <td style=\"padding-left: 1em; padding-right: 1em; text-align: center; vertical-align: top\">&lt;http://dbpedia.org/resou<br>rce/Barack_Obama&gt; ...</td>\n",
       "        <td style=\"padding-left: 1em; padding-right: 1em; text-align: center; vertical-align: top\">Barack Obama</td>\n",
       "        <td style=\"padding-left: 1em; padding-right: 1em; text-align: center; vertical-align: top\">barack hussein obama ii<br>brk husen bm born august ...</td>\n",
       "        <td style=\"padding-left: 1em; padding-right: 1em; text-align: center; vertical-align: top\">gains</td>\n",
       "        <td style=\"padding-left: 1em; padding-right: 1em; text-align: center; vertical-align: top\">1.0</td>\n",
       "    </tr>\n",
       "</table>\n",
       "[273 rows x 5 columns]<br/>Note: Only the head of the SFrame is printed.<br/>You can use print_rows(num_rows=m, num_columns=n) to print more rows and columns.\n",
       "</div>"
      ],
      "text/plain": [
       "Columns:\n",
       "\tURI\tstr\n",
       "\tname\tstr\n",
       "\ttext\tstr\n",
       "\tword\tstr\n",
       "\tcount\tfloat\n",
       "\n",
       "Rows: 273\n",
       "\n",
       "Data:\n",
       "+-------------------------------+--------------+-------------------------------+\n",
       "|              URI              |     name     |              text             |\n",
       "+-------------------------------+--------------+-------------------------------+\n",
       "| <http://dbpedia.org/resour... | Barack Obama | barack hussein obama ii br... |\n",
       "| <http://dbpedia.org/resour... | Barack Obama | barack hussein obama ii br... |\n",
       "| <http://dbpedia.org/resour... | Barack Obama | barack hussein obama ii br... |\n",
       "| <http://dbpedia.org/resour... | Barack Obama | barack hussein obama ii br... |\n",
       "| <http://dbpedia.org/resour... | Barack Obama | barack hussein obama ii br... |\n",
       "| <http://dbpedia.org/resour... | Barack Obama | barack hussein obama ii br... |\n",
       "| <http://dbpedia.org/resour... | Barack Obama | barack hussein obama ii br... |\n",
       "| <http://dbpedia.org/resour... | Barack Obama | barack hussein obama ii br... |\n",
       "| <http://dbpedia.org/resour... | Barack Obama | barack hussein obama ii br... |\n",
       "| <http://dbpedia.org/resour... | Barack Obama | barack hussein obama ii br... |\n",
       "+-------------------------------+--------------+-------------------------------+\n",
       "+------------+-------+\n",
       "|    word    | count |\n",
       "+------------+-------+\n",
       "|    cuba    |  1.0  |\n",
       "| relations  |  1.0  |\n",
       "|   sought   |  1.0  |\n",
       "|   combat   |  1.0  |\n",
       "|   ending   |  1.0  |\n",
       "| withdrawal |  1.0  |\n",
       "|   state    |  1.0  |\n",
       "|  islamic   |  1.0  |\n",
       "|     by     |  1.0  |\n",
       "|   gains    |  1.0  |\n",
       "+------------+-------+\n",
       "[273 rows x 5 columns]\n",
       "Note: Only the head of the SFrame is printed.\n",
       "You can use print_rows(num_rows=m, num_columns=n) to print more rows and columns."
      ]
     },
     "execution_count": 37,
     "metadata": {},
     "output_type": "execute_result"
    }
   ],
   "source": [
    "obama.stack('word_count',new_column_name=['word','count'])"
   ]
  },
  {
   "cell_type": "code",
   "execution_count": 38,
   "metadata": {
    "scrolled": true
   },
   "outputs": [
    {
     "data": {
      "text/plain": [
       "dtype: dict\n",
       "Rows: 1\n",
       "[{'cuba': 1.0, 'relations': 1.0, 'sought': 1.0, 'combat': 1.0, 'ending': 1.0, 'withdrawal': 1.0, 'state': 1.0, 'islamic': 1.0, 'by': 1.0, 'gains': 1.0, 'unconstitutional': 1.0, '8': 1.0, 'marriage': 1.0, 'down': 1.0, 'urged': 1.0, 'process': 1.0, 'which': 1.0, 'filed': 1.0, 'administration': 1.0, 'while': 1.0, 'americans': 1.0, 'full': 1.0, 'lgbt': 1.0, 'called': 1.0, 'proposition': 1.0, 'shooting': 1.0, 'elementary': 1.0, 'gun': 1.0, 'related': 1.0, 'policies': 1.0, 'promoted': 1.0, 'supreme': 1.0, 'has': 4.0, '2012': 1.0, 'reelected': 1.0, '2012obama': 1.0, 'continued': 1.0, 'budget': 1.0, 'californias': 1.0, 'limit': 1.0, 'nations': 1.0, 'briefs': 1.0, 'not': 1.0, 'or': 1.0, 'lengthy': 1.0, '63': 1.0, 'lost': 1.0, '2011': 3.0, 'laden': 1.0, 'against': 1.0, 'osama': 1.0, 'obamacare': 1.0, 'that': 1.0, 'defense': 1.0, 'national': 2.0, 'operation': 1.0, 'ordered': 3.0, 'made': 1.0, 'earning': 1.0, 'control': 4.0, 'victory': 1.0, 'arms': 1.0, 'afghanistan': 2.0, 'economic': 1.0, 'three': 1.0, 'troop': 1.0, 'primaries': 1.0, 'war': 1.0, 'involvement': 3.0, 'with': 3.0, 'foreign': 2.0, 'relief': 2.0, 'repeal': 1.0, 'convention': 1.0, 'street': 1.0, 'referred': 1.0, 'military': 4.0, 'constitutional': 1.0, 'consumer': 1.0, 'care': 1.0, 'major': 1.0, 'patient': 1.0, 'start': 1.0, 'whether': 1.0, 'federal': 1.0, 'term': 3.0, 'initiatives': 1.0, 'ask': 1.0, 'domestic': 2.0, 'increased': 1.0, 'other': 1.0, 'over': 1.0, 'democratic': 4.0, 'creation': 1.0, 'romney': 1.0, 'job': 1.0, 'school': 3.0, 'russia': 1.0, 'reauthorization': 1.0, 'degree': 1.0, 'insurance': 1.0, 'unemployment': 1.0, 'normalize': 1.0, 'tax': 1.0, 'reinvestment': 1.0, 'recovery': 1.0, 'form': 1.0, 'into': 1.0, 'recession': 1.0, 'libya': 1.0, 'states': 3.0, 'great': 1.0, 'sandy': 1.0, 'legislation': 1.0, 'stimulus': 1.0, 'mitt': 1.0, 'levels': 1.0, 'reform': 1.0, '1961': 1.0, 'as': 6.0, 'doddfrank': 1.0, 'operations': 1.0, 'sworn': 1.0, 'years': 1.0, 'laureateduring': 1.0, 'prize': 1.0, '1996': 1.0, 'named': 1.0, 'nine': 1.0, '2009': 3.0, '20': 2.0, 'included': 1.0, 'began': 1.0, 'on': 2.0, '13th': 1.0, 'inaugurated': 1.0, 'to': 14.0, 'general': 1.0, 'second': 2.0, 'rodham': 1.0, 'two': 1.0, 'john': 1.0, 'address': 1.0, 'sufficient': 1.0, 'protection': 2.0, 'hold': 1.0, 'won': 1.0, 'hillary': 1.0, 'born': 2.0, 'close': 1.0, 'after': 4.0, 'a': 7.0, 'treaty': 1.0, 'seats': 1.0, 'november': 2.0, 'election': 3.0, 'wall': 1.0, 'presidential': 2.0, 'often': 1.0, 'july': 1.0, 'organizer': 1.0, 'primary': 2.0, 'nobel': 1.0, 'party': 3.0, 'court': 1.0, 'march': 1.0, '1992': 1.0, 'bm': 1.0, 'keynote': 1.0, 'campaign': 3.0, '2000in': 1.0, 'clinton': 1.0, 'during': 2.0, 'ended': 1.0, 'he': 7.0, 'house': 2.0, 'bin': 1.0, 'and': 21.0, 'senate': 3.0, 'attention': 1.0, 'district': 1.0, 'new': 1.0, 'worked': 1.0, 'representing': 1.0, 'mccain': 1.0, 'current': 1.0, 'january': 3.0, 'terms': 1.0, '2004': 3.0, '2010': 2.0, '2008': 1.0, 'from': 3.0, 'months': 1.0, 'policy': 2.0, 'at': 2.0, 'strike': 1.0, 'for': 4.0, 'civil': 1.0, 'taught': 1.0, 'brk': 1.0, 'attorney': 1.0, 'running': 1.0, 'before': 1.0, 'then': 1.0, 'chicago': 2.0, '4': 1.0, 'community': 1.0, '1997': 1.0, 'resulted': 1.0, 'debt': 1.0, 'illinois': 2.0, 'harvard': 2.0, 'us': 6.0, 'review': 1.0, 'nomination': 1.0, 'taxpayer': 1.0, 'death': 1.0, 'law': 6.0, 'husen': 1.0, 'dont': 2.0, 'spending': 1.0, 'served': 2.0, 'equality': 1.0, 'iraq': 4.0, 'where': 1.0, 'columbia': 1.0, 'unsuccessfully': 1.0, 'was': 5.0, 'hawaii': 1.0, 'total': 1.0, '2007': 1.0, 'hook': 1.0, 'debate': 1.0, 'honolulu': 1.0, 'raise': 1.0, 'barack': 1.0, 'tell': 1.0, 'affordable': 1.0, 'first': 3.0, 'obama': 9.0, 'hussein': 1.0, '2013': 1.0, 'republicans': 1.0, 'in': 30.0, 'office': 2.0, 'american': 3.0, 'graduate': 1.0, 'is': 2.0, 'peace': 1.0, 'regained': 1.0, 'represent': 1.0, 'defeating': 1.0, 'signed': 3.0, 'president': 4.0, 'united': 3.0, 'african': 1.0, 'representatives': 2.0, 'nominee': 2.0, '44th': 1.0, 'delegates': 1.0, 'the': 40.0, 'his': 11.0, 'august': 1.0, 'republican': 2.0, 'defeated': 1.0, 'university': 2.0, 'received': 1.0, 'of': 18.0, 'receive': 1.0, 'response': 3.0, 'ii': 1.0, 'act': 8.0, 'rights': 1.0}]"
      ]
     },
     "execution_count": 38,
     "metadata": {},
     "output_type": "execute_result"
    }
   ],
   "source": [
    "obama['word_count']"
   ]
  },
  {
   "cell_type": "code",
   "execution_count": 59,
   "metadata": {},
   "outputs": [
    {
     "data": {
      "text/plain": [
       "{'cuba': 1.0,\n",
       " 'relations': 1.0,\n",
       " 'sought': 1.0,\n",
       " 'combat': 1.0,\n",
       " 'ending': 1.0,\n",
       " 'withdrawal': 1.0,\n",
       " 'state': 1.0,\n",
       " 'islamic': 1.0,\n",
       " 'by': 1.0,\n",
       " 'gains': 1.0,\n",
       " 'unconstitutional': 1.0,\n",
       " '8': 1.0,\n",
       " 'marriage': 1.0,\n",
       " 'down': 1.0,\n",
       " 'urged': 1.0,\n",
       " 'process': 1.0,\n",
       " 'which': 1.0,\n",
       " 'filed': 1.0,\n",
       " 'administration': 1.0,\n",
       " 'while': 1.0,\n",
       " 'americans': 1.0,\n",
       " 'full': 1.0,\n",
       " 'lgbt': 1.0,\n",
       " 'called': 1.0,\n",
       " 'proposition': 1.0,\n",
       " 'shooting': 1.0,\n",
       " 'elementary': 1.0,\n",
       " 'gun': 1.0,\n",
       " 'related': 1.0,\n",
       " 'policies': 1.0,\n",
       " 'promoted': 1.0,\n",
       " 'supreme': 1.0,\n",
       " 'has': 4.0,\n",
       " '2012': 1.0,\n",
       " 'reelected': 1.0,\n",
       " '2012obama': 1.0,\n",
       " 'continued': 1.0,\n",
       " 'budget': 1.0,\n",
       " 'californias': 1.0,\n",
       " 'limit': 1.0,\n",
       " 'nations': 1.0,\n",
       " 'briefs': 1.0,\n",
       " 'not': 1.0,\n",
       " 'or': 1.0,\n",
       " 'lengthy': 1.0,\n",
       " '63': 1.0,\n",
       " 'lost': 1.0,\n",
       " '2011': 3.0,\n",
       " 'laden': 1.0,\n",
       " 'against': 1.0,\n",
       " 'osama': 1.0,\n",
       " 'obamacare': 1.0,\n",
       " 'that': 1.0,\n",
       " 'defense': 1.0,\n",
       " 'national': 2.0,\n",
       " 'operation': 1.0,\n",
       " 'ordered': 3.0,\n",
       " 'made': 1.0,\n",
       " 'earning': 1.0,\n",
       " 'control': 4.0,\n",
       " 'victory': 1.0,\n",
       " 'arms': 1.0,\n",
       " 'afghanistan': 2.0,\n",
       " 'economic': 1.0,\n",
       " 'three': 1.0,\n",
       " 'troop': 1.0,\n",
       " 'primaries': 1.0,\n",
       " 'war': 1.0,\n",
       " 'involvement': 3.0,\n",
       " 'with': 3.0,\n",
       " 'foreign': 2.0,\n",
       " 'relief': 2.0,\n",
       " 'repeal': 1.0,\n",
       " 'convention': 1.0,\n",
       " 'street': 1.0,\n",
       " 'referred': 1.0,\n",
       " 'military': 4.0,\n",
       " 'constitutional': 1.0,\n",
       " 'consumer': 1.0,\n",
       " 'care': 1.0,\n",
       " 'major': 1.0,\n",
       " 'patient': 1.0,\n",
       " 'start': 1.0,\n",
       " 'whether': 1.0,\n",
       " 'federal': 1.0,\n",
       " 'term': 3.0,\n",
       " 'initiatives': 1.0,\n",
       " 'ask': 1.0,\n",
       " 'domestic': 2.0,\n",
       " 'increased': 1.0,\n",
       " 'other': 1.0,\n",
       " 'over': 1.0,\n",
       " 'democratic': 4.0,\n",
       " 'creation': 1.0,\n",
       " 'romney': 1.0,\n",
       " 'job': 1.0,\n",
       " 'school': 3.0,\n",
       " 'russia': 1.0,\n",
       " 'reauthorization': 1.0,\n",
       " 'degree': 1.0,\n",
       " 'insurance': 1.0,\n",
       " 'unemployment': 1.0,\n",
       " 'normalize': 1.0,\n",
       " 'tax': 1.0,\n",
       " 'reinvestment': 1.0,\n",
       " 'recovery': 1.0,\n",
       " 'form': 1.0,\n",
       " 'into': 1.0,\n",
       " 'recession': 1.0,\n",
       " 'libya': 1.0,\n",
       " 'states': 3.0,\n",
       " 'great': 1.0,\n",
       " 'sandy': 1.0,\n",
       " 'legislation': 1.0,\n",
       " 'stimulus': 1.0,\n",
       " 'mitt': 1.0,\n",
       " 'levels': 1.0,\n",
       " 'reform': 1.0,\n",
       " '1961': 1.0,\n",
       " 'as': 6.0,\n",
       " 'doddfrank': 1.0,\n",
       " 'operations': 1.0,\n",
       " 'sworn': 1.0,\n",
       " 'years': 1.0,\n",
       " 'laureateduring': 1.0,\n",
       " 'prize': 1.0,\n",
       " '1996': 1.0,\n",
       " 'named': 1.0,\n",
       " 'nine': 1.0,\n",
       " '2009': 3.0,\n",
       " '20': 2.0,\n",
       " 'included': 1.0,\n",
       " 'began': 1.0,\n",
       " 'on': 2.0,\n",
       " '13th': 1.0,\n",
       " 'inaugurated': 1.0,\n",
       " 'to': 14.0,\n",
       " 'general': 1.0,\n",
       " 'second': 2.0,\n",
       " 'rodham': 1.0,\n",
       " 'two': 1.0,\n",
       " 'john': 1.0,\n",
       " 'address': 1.0,\n",
       " 'sufficient': 1.0,\n",
       " 'protection': 2.0,\n",
       " 'hold': 1.0,\n",
       " 'won': 1.0,\n",
       " 'hillary': 1.0,\n",
       " 'born': 2.0,\n",
       " 'close': 1.0,\n",
       " 'after': 4.0,\n",
       " 'a': 7.0,\n",
       " 'treaty': 1.0,\n",
       " 'seats': 1.0,\n",
       " 'november': 2.0,\n",
       " 'election': 3.0,\n",
       " 'wall': 1.0,\n",
       " 'presidential': 2.0,\n",
       " 'often': 1.0,\n",
       " 'july': 1.0,\n",
       " 'organizer': 1.0,\n",
       " 'primary': 2.0,\n",
       " 'nobel': 1.0,\n",
       " 'party': 3.0,\n",
       " 'court': 1.0,\n",
       " 'march': 1.0,\n",
       " '1992': 1.0,\n",
       " 'bm': 1.0,\n",
       " 'keynote': 1.0,\n",
       " 'campaign': 3.0,\n",
       " '2000in': 1.0,\n",
       " 'clinton': 1.0,\n",
       " 'during': 2.0,\n",
       " 'ended': 1.0,\n",
       " 'he': 7.0,\n",
       " 'house': 2.0,\n",
       " 'bin': 1.0,\n",
       " 'and': 21.0,\n",
       " 'senate': 3.0,\n",
       " 'attention': 1.0,\n",
       " 'district': 1.0,\n",
       " 'new': 1.0,\n",
       " 'worked': 1.0,\n",
       " 'representing': 1.0,\n",
       " 'mccain': 1.0,\n",
       " 'current': 1.0,\n",
       " 'january': 3.0,\n",
       " 'terms': 1.0,\n",
       " '2004': 3.0,\n",
       " '2010': 2.0,\n",
       " '2008': 1.0,\n",
       " 'from': 3.0,\n",
       " 'months': 1.0,\n",
       " 'policy': 2.0,\n",
       " 'at': 2.0,\n",
       " 'strike': 1.0,\n",
       " 'for': 4.0,\n",
       " 'civil': 1.0,\n",
       " 'taught': 1.0,\n",
       " 'brk': 1.0,\n",
       " 'attorney': 1.0,\n",
       " 'running': 1.0,\n",
       " 'before': 1.0,\n",
       " 'then': 1.0,\n",
       " 'chicago': 2.0,\n",
       " '4': 1.0,\n",
       " 'community': 1.0,\n",
       " '1997': 1.0,\n",
       " 'resulted': 1.0,\n",
       " 'debt': 1.0,\n",
       " 'illinois': 2.0,\n",
       " 'harvard': 2.0,\n",
       " 'us': 6.0,\n",
       " 'review': 1.0,\n",
       " 'nomination': 1.0,\n",
       " 'taxpayer': 1.0,\n",
       " 'death': 1.0,\n",
       " 'law': 6.0,\n",
       " 'husen': 1.0,\n",
       " 'dont': 2.0,\n",
       " 'spending': 1.0,\n",
       " 'served': 2.0,\n",
       " 'equality': 1.0,\n",
       " 'iraq': 4.0,\n",
       " 'where': 1.0,\n",
       " 'columbia': 1.0,\n",
       " 'unsuccessfully': 1.0,\n",
       " 'was': 5.0,\n",
       " 'hawaii': 1.0,\n",
       " 'total': 1.0,\n",
       " '2007': 1.0,\n",
       " 'hook': 1.0,\n",
       " 'debate': 1.0,\n",
       " 'honolulu': 1.0,\n",
       " 'raise': 1.0,\n",
       " 'barack': 1.0,\n",
       " 'tell': 1.0,\n",
       " 'affordable': 1.0,\n",
       " 'first': 3.0,\n",
       " 'obama': 9.0,\n",
       " 'hussein': 1.0,\n",
       " '2013': 1.0,\n",
       " 'republicans': 1.0,\n",
       " 'in': 30.0,\n",
       " 'office': 2.0,\n",
       " 'american': 3.0,\n",
       " 'graduate': 1.0,\n",
       " 'is': 2.0,\n",
       " 'peace': 1.0,\n",
       " 'regained': 1.0,\n",
       " 'represent': 1.0,\n",
       " 'defeating': 1.0,\n",
       " 'signed': 3.0,\n",
       " 'president': 4.0,\n",
       " 'united': 3.0,\n",
       " 'african': 1.0,\n",
       " 'representatives': 2.0,\n",
       " 'nominee': 2.0,\n",
       " '44th': 1.0,\n",
       " 'delegates': 1.0,\n",
       " 'the': 40.0,\n",
       " 'his': 11.0,\n",
       " 'august': 1.0,\n",
       " 'republican': 2.0,\n",
       " 'defeated': 1.0,\n",
       " 'university': 2.0,\n",
       " 'received': 1.0,\n",
       " 'of': 18.0,\n",
       " 'receive': 1.0,\n",
       " 'response': 3.0,\n",
       " 'ii': 1.0,\n",
       " 'act': 8.0,\n",
       " 'rights': 1.0}"
      ]
     },
     "execution_count": 59,
     "metadata": {},
     "output_type": "execute_result"
    }
   ],
   "source": [
    "obama['word_count'][0]"
   ]
  },
  {
   "cell_type": "code",
   "execution_count": 39,
   "metadata": {},
   "outputs": [
    {
     "data": {
      "text/html": [
       "<div style=\"max-height:1000px;max-width:1500px;overflow:auto;\"><table frame=\"box\" rules=\"cols\">\n",
       "    <tr>\n",
       "        <th style=\"padding-left: 1em; padding-right: 1em; text-align: center\">word_count</th>\n",
       "    </tr>\n",
       "    <tr>\n",
       "        <td style=\"padding-left: 1em; padding-right: 1em; text-align: center; vertical-align: top\">{&#x27;cuba&#x27;: 1.0,<br>&#x27;relations&#x27;: 1.0, ...</td>\n",
       "    </tr>\n",
       "</table>\n",
       "[1 rows x 1 columns]<br/>\n",
       "</div>"
      ],
      "text/plain": [
       "Columns:\n",
       "\tword_count\tdict\n",
       "\n",
       "Rows: 1\n",
       "\n",
       "Data:\n",
       "+-------------------------------+\n",
       "|           word_count          |\n",
       "+-------------------------------+\n",
       "| {'cuba': 1.0, 'relations':... |\n",
       "+-------------------------------+\n",
       "[1 rows x 1 columns]"
      ]
     },
     "execution_count": 39,
     "metadata": {},
     "output_type": "execute_result"
    }
   ],
   "source": [
    "obama[['word_count']]"
   ]
  },
  {
   "cell_type": "code",
   "execution_count": 40,
   "metadata": {},
   "outputs": [],
   "source": [
    "obama_word_count_table = obama[['word_count']].stack('word_count', new_column_name = ['word','count'])"
   ]
  },
  {
   "cell_type": "code",
   "execution_count": 41,
   "metadata": {},
   "outputs": [
    {
     "data": {
      "text/html": [
       "<div style=\"max-height:1000px;max-width:1500px;overflow:auto;\"><table frame=\"box\" rules=\"cols\">\n",
       "    <tr>\n",
       "        <th style=\"padding-left: 1em; padding-right: 1em; text-align: center\">word</th>\n",
       "        <th style=\"padding-left: 1em; padding-right: 1em; text-align: center\">count</th>\n",
       "    </tr>\n",
       "    <tr>\n",
       "        <td style=\"padding-left: 1em; padding-right: 1em; text-align: center; vertical-align: top\">cuba</td>\n",
       "        <td style=\"padding-left: 1em; padding-right: 1em; text-align: center; vertical-align: top\">1.0</td>\n",
       "    </tr>\n",
       "    <tr>\n",
       "        <td style=\"padding-left: 1em; padding-right: 1em; text-align: center; vertical-align: top\">relations</td>\n",
       "        <td style=\"padding-left: 1em; padding-right: 1em; text-align: center; vertical-align: top\">1.0</td>\n",
       "    </tr>\n",
       "    <tr>\n",
       "        <td style=\"padding-left: 1em; padding-right: 1em; text-align: center; vertical-align: top\">sought</td>\n",
       "        <td style=\"padding-left: 1em; padding-right: 1em; text-align: center; vertical-align: top\">1.0</td>\n",
       "    </tr>\n",
       "    <tr>\n",
       "        <td style=\"padding-left: 1em; padding-right: 1em; text-align: center; vertical-align: top\">combat</td>\n",
       "        <td style=\"padding-left: 1em; padding-right: 1em; text-align: center; vertical-align: top\">1.0</td>\n",
       "    </tr>\n",
       "    <tr>\n",
       "        <td style=\"padding-left: 1em; padding-right: 1em; text-align: center; vertical-align: top\">ending</td>\n",
       "        <td style=\"padding-left: 1em; padding-right: 1em; text-align: center; vertical-align: top\">1.0</td>\n",
       "    </tr>\n",
       "    <tr>\n",
       "        <td style=\"padding-left: 1em; padding-right: 1em; text-align: center; vertical-align: top\">withdrawal</td>\n",
       "        <td style=\"padding-left: 1em; padding-right: 1em; text-align: center; vertical-align: top\">1.0</td>\n",
       "    </tr>\n",
       "    <tr>\n",
       "        <td style=\"padding-left: 1em; padding-right: 1em; text-align: center; vertical-align: top\">state</td>\n",
       "        <td style=\"padding-left: 1em; padding-right: 1em; text-align: center; vertical-align: top\">1.0</td>\n",
       "    </tr>\n",
       "    <tr>\n",
       "        <td style=\"padding-left: 1em; padding-right: 1em; text-align: center; vertical-align: top\">islamic</td>\n",
       "        <td style=\"padding-left: 1em; padding-right: 1em; text-align: center; vertical-align: top\">1.0</td>\n",
       "    </tr>\n",
       "    <tr>\n",
       "        <td style=\"padding-left: 1em; padding-right: 1em; text-align: center; vertical-align: top\">by</td>\n",
       "        <td style=\"padding-left: 1em; padding-right: 1em; text-align: center; vertical-align: top\">1.0</td>\n",
       "    </tr>\n",
       "    <tr>\n",
       "        <td style=\"padding-left: 1em; padding-right: 1em; text-align: center; vertical-align: top\">gains</td>\n",
       "        <td style=\"padding-left: 1em; padding-right: 1em; text-align: center; vertical-align: top\">1.0</td>\n",
       "    </tr>\n",
       "</table>\n",
       "[273 rows x 2 columns]<br/>Note: Only the head of the SFrame is printed.<br/>You can use print_rows(num_rows=m, num_columns=n) to print more rows and columns.\n",
       "</div>"
      ],
      "text/plain": [
       "Columns:\n",
       "\tword\tstr\n",
       "\tcount\tfloat\n",
       "\n",
       "Rows: 273\n",
       "\n",
       "Data:\n",
       "+------------+-------+\n",
       "|    word    | count |\n",
       "+------------+-------+\n",
       "|    cuba    |  1.0  |\n",
       "| relations  |  1.0  |\n",
       "|   sought   |  1.0  |\n",
       "|   combat   |  1.0  |\n",
       "|   ending   |  1.0  |\n",
       "| withdrawal |  1.0  |\n",
       "|   state    |  1.0  |\n",
       "|  islamic   |  1.0  |\n",
       "|     by     |  1.0  |\n",
       "|   gains    |  1.0  |\n",
       "+------------+-------+\n",
       "[273 rows x 2 columns]\n",
       "Note: Only the head of the SFrame is printed.\n",
       "You can use print_rows(num_rows=m, num_columns=n) to print more rows and columns."
      ]
     },
     "execution_count": 41,
     "metadata": {},
     "output_type": "execute_result"
    }
   ],
   "source": [
    "obama_word_count_table"
   ]
  },
  {
   "cell_type": "code",
   "execution_count": 42,
   "metadata": {},
   "outputs": [
    {
     "data": {
      "text/html": [
       "<div style=\"max-height:1000px;max-width:1500px;overflow:auto;\"><table frame=\"box\" rules=\"cols\">\n",
       "    <tr>\n",
       "        <th style=\"padding-left: 1em; padding-right: 1em; text-align: center\">word</th>\n",
       "        <th style=\"padding-left: 1em; padding-right: 1em; text-align: center\">count</th>\n",
       "    </tr>\n",
       "    <tr>\n",
       "        <td style=\"padding-left: 1em; padding-right: 1em; text-align: center; vertical-align: top\">the</td>\n",
       "        <td style=\"padding-left: 1em; padding-right: 1em; text-align: center; vertical-align: top\">40.0</td>\n",
       "    </tr>\n",
       "    <tr>\n",
       "        <td style=\"padding-left: 1em; padding-right: 1em; text-align: center; vertical-align: top\">in</td>\n",
       "        <td style=\"padding-left: 1em; padding-right: 1em; text-align: center; vertical-align: top\">30.0</td>\n",
       "    </tr>\n",
       "    <tr>\n",
       "        <td style=\"padding-left: 1em; padding-right: 1em; text-align: center; vertical-align: top\">and</td>\n",
       "        <td style=\"padding-left: 1em; padding-right: 1em; text-align: center; vertical-align: top\">21.0</td>\n",
       "    </tr>\n",
       "    <tr>\n",
       "        <td style=\"padding-left: 1em; padding-right: 1em; text-align: center; vertical-align: top\">of</td>\n",
       "        <td style=\"padding-left: 1em; padding-right: 1em; text-align: center; vertical-align: top\">18.0</td>\n",
       "    </tr>\n",
       "    <tr>\n",
       "        <td style=\"padding-left: 1em; padding-right: 1em; text-align: center; vertical-align: top\">to</td>\n",
       "        <td style=\"padding-left: 1em; padding-right: 1em; text-align: center; vertical-align: top\">14.0</td>\n",
       "    </tr>\n",
       "    <tr>\n",
       "        <td style=\"padding-left: 1em; padding-right: 1em; text-align: center; vertical-align: top\">his</td>\n",
       "        <td style=\"padding-left: 1em; padding-right: 1em; text-align: center; vertical-align: top\">11.0</td>\n",
       "    </tr>\n",
       "    <tr>\n",
       "        <td style=\"padding-left: 1em; padding-right: 1em; text-align: center; vertical-align: top\">obama</td>\n",
       "        <td style=\"padding-left: 1em; padding-right: 1em; text-align: center; vertical-align: top\">9.0</td>\n",
       "    </tr>\n",
       "    <tr>\n",
       "        <td style=\"padding-left: 1em; padding-right: 1em; text-align: center; vertical-align: top\">act</td>\n",
       "        <td style=\"padding-left: 1em; padding-right: 1em; text-align: center; vertical-align: top\">8.0</td>\n",
       "    </tr>\n",
       "    <tr>\n",
       "        <td style=\"padding-left: 1em; padding-right: 1em; text-align: center; vertical-align: top\">he</td>\n",
       "        <td style=\"padding-left: 1em; padding-right: 1em; text-align: center; vertical-align: top\">7.0</td>\n",
       "    </tr>\n",
       "    <tr>\n",
       "        <td style=\"padding-left: 1em; padding-right: 1em; text-align: center; vertical-align: top\">a</td>\n",
       "        <td style=\"padding-left: 1em; padding-right: 1em; text-align: center; vertical-align: top\">7.0</td>\n",
       "    </tr>\n",
       "</table>\n",
       "[273 rows x 2 columns]<br/>Note: Only the head of the SFrame is printed.<br/>You can use print_rows(num_rows=m, num_columns=n) to print more rows and columns.\n",
       "</div>"
      ],
      "text/plain": [
       "Columns:\n",
       "\tword\tstr\n",
       "\tcount\tfloat\n",
       "\n",
       "Rows: 273\n",
       "\n",
       "Data:\n",
       "+-------+-------+\n",
       "|  word | count |\n",
       "+-------+-------+\n",
       "|  the  |  40.0 |\n",
       "|   in  |  30.0 |\n",
       "|  and  |  21.0 |\n",
       "|   of  |  18.0 |\n",
       "|   to  |  14.0 |\n",
       "|  his  |  11.0 |\n",
       "| obama |  9.0  |\n",
       "|  act  |  8.0  |\n",
       "|   he  |  7.0  |\n",
       "|   a   |  7.0  |\n",
       "+-------+-------+\n",
       "[273 rows x 2 columns]\n",
       "Note: Only the head of the SFrame is printed.\n",
       "You can use print_rows(num_rows=m, num_columns=n) to print more rows and columns."
      ]
     },
     "execution_count": 42,
     "metadata": {},
     "output_type": "execute_result"
    }
   ],
   "source": [
    "obama_word_count_table.sort('count',ascending=False)"
   ]
  },
  {
   "cell_type": "markdown",
   "metadata": {},
   "source": [
    "# Compute TF-IDF for the entire corpus of articles"
   ]
  },
  {
   "cell_type": "code",
   "execution_count": 43,
   "metadata": {},
   "outputs": [],
   "source": [
    "people['word_count'] = turicreate.text_analytics.count_words(people['text'])"
   ]
  },
  {
   "cell_type": "code",
   "execution_count": 44,
   "metadata": {},
   "outputs": [
    {
     "data": {
      "text/html": [
       "<div style=\"max-height:1000px;max-width:1500px;overflow:auto;\"><table frame=\"box\" rules=\"cols\">\n",
       "    <tr>\n",
       "        <th style=\"padding-left: 1em; padding-right: 1em; text-align: center\">URI</th>\n",
       "        <th style=\"padding-left: 1em; padding-right: 1em; text-align: center\">name</th>\n",
       "        <th style=\"padding-left: 1em; padding-right: 1em; text-align: center\">text</th>\n",
       "        <th style=\"padding-left: 1em; padding-right: 1em; text-align: center\">word_count</th>\n",
       "    </tr>\n",
       "    <tr>\n",
       "        <td style=\"padding-left: 1em; padding-right: 1em; text-align: center; vertical-align: top\">&lt;http://dbpedia.org/resou<br>rce/Digby_Morrell&gt; ...</td>\n",
       "        <td style=\"padding-left: 1em; padding-right: 1em; text-align: center; vertical-align: top\">Digby Morrell</td>\n",
       "        <td style=\"padding-left: 1em; padding-right: 1em; text-align: center; vertical-align: top\">digby morrell born 10<br>october 1979 is a former ...</td>\n",
       "        <td style=\"padding-left: 1em; padding-right: 1em; text-align: center; vertical-align: top\">{&#x27;melbourne&#x27;: 1.0,<br>&#x27;college&#x27;: 1.0, &#x27;para ...</td>\n",
       "    </tr>\n",
       "    <tr>\n",
       "        <td style=\"padding-left: 1em; padding-right: 1em; text-align: center; vertical-align: top\">&lt;http://dbpedia.org/resou<br>rce/Alfred_J._Lewy&gt; ...</td>\n",
       "        <td style=\"padding-left: 1em; padding-right: 1em; text-align: center; vertical-align: top\">Alfred J. Lewy</td>\n",
       "        <td style=\"padding-left: 1em; padding-right: 1em; text-align: center; vertical-align: top\">alfred j lewy aka sandy<br>lewy graduated from ...</td>\n",
       "        <td style=\"padding-left: 1em; padding-right: 1em; text-align: center; vertical-align: top\">{&#x27;time&#x27;: 1.0, &#x27;each&#x27;:<br>1.0, &#x27;rhythms&#x27;: 1.0, ...</td>\n",
       "    </tr>\n",
       "    <tr>\n",
       "        <td style=\"padding-left: 1em; padding-right: 1em; text-align: center; vertical-align: top\">&lt;http://dbpedia.org/resou<br>rce/Harpdog_Brown&gt; ...</td>\n",
       "        <td style=\"padding-left: 1em; padding-right: 1em; text-align: center; vertical-align: top\">Harpdog Brown</td>\n",
       "        <td style=\"padding-left: 1em; padding-right: 1em; text-align: center; vertical-align: top\">harpdog brown is a singer<br>and harmonica player who ...</td>\n",
       "        <td style=\"padding-left: 1em; padding-right: 1em; text-align: center; vertical-align: top\">{&#x27;time&#x27;: 1.0, &#x27;honored&#x27;:<br>1.0, &#x27;maple&#x27;: 1.0, ...</td>\n",
       "    </tr>\n",
       "    <tr>\n",
       "        <td style=\"padding-left: 1em; padding-right: 1em; text-align: center; vertical-align: top\">&lt;http://dbpedia.org/resou<br>rce/Franz_Rottensteiner&gt; ...</td>\n",
       "        <td style=\"padding-left: 1em; padding-right: 1em; text-align: center; vertical-align: top\">Franz Rottensteiner</td>\n",
       "        <td style=\"padding-left: 1em; padding-right: 1em; text-align: center; vertical-align: top\">franz rottensteiner born<br>in waidmannsfeld lower ...</td>\n",
       "        <td style=\"padding-left: 1em; padding-right: 1em; text-align: center; vertical-align: top\">{&#x27;kurdlawitzpreis&#x27;: 1.0,<br>&#x27;this&#x27;: 1.0, &#x27;occasion&#x27;: ...</td>\n",
       "    </tr>\n",
       "    <tr>\n",
       "        <td style=\"padding-left: 1em; padding-right: 1em; text-align: center; vertical-align: top\">&lt;http://dbpedia.org/resou<br>rce/G-Enka&gt; ...</td>\n",
       "        <td style=\"padding-left: 1em; padding-right: 1em; text-align: center; vertical-align: top\">G-Enka</td>\n",
       "        <td style=\"padding-left: 1em; padding-right: 1em; text-align: center; vertical-align: top\">henry krvits born 30<br>december 1974 in tallinn ...</td>\n",
       "        <td style=\"padding-left: 1em; padding-right: 1em; text-align: center; vertical-align: top\">{&#x27;curtis&#x27;: 1.0, &#x27;promo&#x27;:<br>1.0, &#x27;2007&#x27;: 1.0, &#x27;ce ...</td>\n",
       "    </tr>\n",
       "    <tr>\n",
       "        <td style=\"padding-left: 1em; padding-right: 1em; text-align: center; vertical-align: top\">&lt;http://dbpedia.org/resou<br>rce/Sam_Henderson&gt; ...</td>\n",
       "        <td style=\"padding-left: 1em; padding-right: 1em; text-align: center; vertical-align: top\">Sam Henderson</td>\n",
       "        <td style=\"padding-left: 1em; padding-right: 1em; text-align: center; vertical-align: top\">sam henderson born<br>october 18 1969 is an ...</td>\n",
       "        <td style=\"padding-left: 1em; padding-right: 1em; text-align: center; vertical-align: top\">{&#x27;journal&#x27;: 1.0,<br>&#x27;niblit&#x27;: 1.0, ...</td>\n",
       "    </tr>\n",
       "    <tr>\n",
       "        <td style=\"padding-left: 1em; padding-right: 1em; text-align: center; vertical-align: top\">&lt;http://dbpedia.org/resou<br>rce/Aaron_LaCrate&gt; ...</td>\n",
       "        <td style=\"padding-left: 1em; padding-right: 1em; text-align: center; vertical-align: top\">Aaron LaCrate</td>\n",
       "        <td style=\"padding-left: 1em; padding-right: 1em; text-align: center; vertical-align: top\">aaron lacrate is an<br>american music producer ...</td>\n",
       "        <td style=\"padding-left: 1em; padding-right: 1em; text-align: center; vertical-align: top\">{&#x27;including&#x27;: 1.0,<br>&#x27;artists&#x27;: 1.0, &#x27;local&#x27;: ...</td>\n",
       "    </tr>\n",
       "    <tr>\n",
       "        <td style=\"padding-left: 1em; padding-right: 1em; text-align: center; vertical-align: top\">&lt;http://dbpedia.org/resou<br>rce/Trevor_Ferguson&gt; ...</td>\n",
       "        <td style=\"padding-left: 1em; padding-right: 1em; text-align: center; vertical-align: top\">Trevor Ferguson</td>\n",
       "        <td style=\"padding-left: 1em; padding-right: 1em; text-align: center; vertical-align: top\">trevor ferguson aka john<br>farrow born 11 november ...</td>\n",
       "        <td style=\"padding-left: 1em; padding-right: 1em; text-align: center; vertical-align: top\">{&#x27;concordia&#x27;: 1.0,<br>&#x27;creative&#x27;: 1.0, ...</td>\n",
       "    </tr>\n",
       "    <tr>\n",
       "        <td style=\"padding-left: 1em; padding-right: 1em; text-align: center; vertical-align: top\">&lt;http://dbpedia.org/resou<br>rce/Grant_Nelson&gt; ...</td>\n",
       "        <td style=\"padding-left: 1em; padding-right: 1em; text-align: center; vertical-align: top\">Grant Nelson</td>\n",
       "        <td style=\"padding-left: 1em; padding-right: 1em; text-align: center; vertical-align: top\">grant nelson born 27<br>april 1971 in london  ...</td>\n",
       "        <td style=\"padding-left: 1em; padding-right: 1em; text-align: center; vertical-align: top\">{&#x27;knuckles&#x27;: 1.0,<br>&#x27;simply&#x27;: 1.0, &#x27;brand&#x27;: ...</td>\n",
       "    </tr>\n",
       "    <tr>\n",
       "        <td style=\"padding-left: 1em; padding-right: 1em; text-align: center; vertical-align: top\">&lt;http://dbpedia.org/resou<br>rce/Cathy_Caruth&gt; ...</td>\n",
       "        <td style=\"padding-left: 1em; padding-right: 1em; text-align: center; vertical-align: top\">Cathy Caruth</td>\n",
       "        <td style=\"padding-left: 1em; padding-right: 1em; text-align: center; vertical-align: top\">cathy caruth born 1955 is<br>frank h t rhodes ...</td>\n",
       "        <td style=\"padding-left: 1em; padding-right: 1em; text-align: center; vertical-align: top\">{&#x27;n3&#x27;: 1.0, &#x27;2002&#x27;: 1.0,<br>&#x27;harvard&#x27;: 1.0, &#x27;tria ...</td>\n",
       "    </tr>\n",
       "</table>\n",
       "[59071 rows x 4 columns]<br/>Note: Only the head of the SFrame is printed.<br/>You can use print_rows(num_rows=m, num_columns=n) to print more rows and columns.\n",
       "</div>"
      ],
      "text/plain": [
       "Columns:\n",
       "\tURI\tstr\n",
       "\tname\tstr\n",
       "\ttext\tstr\n",
       "\tword_count\tdict\n",
       "\n",
       "Rows: 59071\n",
       "\n",
       "Data:\n",
       "+-------------------------------+---------------------+\n",
       "|              URI              |         name        |\n",
       "+-------------------------------+---------------------+\n",
       "| <http://dbpedia.org/resour... |    Digby Morrell    |\n",
       "| <http://dbpedia.org/resour... |    Alfred J. Lewy   |\n",
       "| <http://dbpedia.org/resour... |    Harpdog Brown    |\n",
       "| <http://dbpedia.org/resour... | Franz Rottensteiner |\n",
       "| <http://dbpedia.org/resour... |        G-Enka       |\n",
       "| <http://dbpedia.org/resour... |    Sam Henderson    |\n",
       "| <http://dbpedia.org/resour... |    Aaron LaCrate    |\n",
       "| <http://dbpedia.org/resour... |   Trevor Ferguson   |\n",
       "| <http://dbpedia.org/resour... |     Grant Nelson    |\n",
       "| <http://dbpedia.org/resour... |     Cathy Caruth    |\n",
       "+-------------------------------+---------------------+\n",
       "+-------------------------------+-------------------------------+\n",
       "|              text             |           word_count          |\n",
       "+-------------------------------+-------------------------------+\n",
       "| digby morrell born 10 octo... | {'melbourne': 1.0, 'colleg... |\n",
       "| alfred j lewy aka sandy le... | {'time': 1.0, 'each': 1.0,... |\n",
       "| harpdog brown is a singer ... | {'time': 1.0, 'honored': 1... |\n",
       "| franz rottensteiner born i... | {'kurdlawitzpreis': 1.0, '... |\n",
       "| henry krvits born 30 decem... | {'curtis': 1.0, 'promo': 1... |\n",
       "| sam henderson born october... | {'journal': 1.0, 'niblit':... |\n",
       "| aaron lacrate is an americ... | {'including': 1.0, 'artist... |\n",
       "| trevor ferguson aka john f... | {'concordia': 1.0, 'creati... |\n",
       "| grant nelson born 27 april... | {'knuckles': 1.0, 'simply'... |\n",
       "| cathy caruth born 1955 is ... | {'n3': 1.0, '2002': 1.0, '... |\n",
       "+-------------------------------+-------------------------------+\n",
       "[59071 rows x 4 columns]\n",
       "Note: Only the head of the SFrame is printed.\n",
       "You can use print_rows(num_rows=m, num_columns=n) to print more rows and columns."
      ]
     },
     "execution_count": 44,
     "metadata": {},
     "output_type": "execute_result"
    }
   ],
   "source": [
    "people"
   ]
  },
  {
   "cell_type": "code",
   "execution_count": 45,
   "metadata": {},
   "outputs": [],
   "source": [
    "people['tfidf'] = turicreate.text_analytics.tf_idf(people['text'])"
   ]
  },
  {
   "cell_type": "code",
   "execution_count": 46,
   "metadata": {},
   "outputs": [
    {
     "data": {
      "text/html": [
       "<div style=\"max-height:1000px;max-width:1500px;overflow:auto;\"><table frame=\"box\" rules=\"cols\">\n",
       "    <tr>\n",
       "        <th style=\"padding-left: 1em; padding-right: 1em; text-align: center\">URI</th>\n",
       "        <th style=\"padding-left: 1em; padding-right: 1em; text-align: center\">name</th>\n",
       "        <th style=\"padding-left: 1em; padding-right: 1em; text-align: center\">text</th>\n",
       "        <th style=\"padding-left: 1em; padding-right: 1em; text-align: center\">word_count</th>\n",
       "    </tr>\n",
       "    <tr>\n",
       "        <td style=\"padding-left: 1em; padding-right: 1em; text-align: center; vertical-align: top\">&lt;http://dbpedia.org/resou<br>rce/Digby_Morrell&gt; ...</td>\n",
       "        <td style=\"padding-left: 1em; padding-right: 1em; text-align: center; vertical-align: top\">Digby Morrell</td>\n",
       "        <td style=\"padding-left: 1em; padding-right: 1em; text-align: center; vertical-align: top\">digby morrell born 10<br>october 1979 is a former ...</td>\n",
       "        <td style=\"padding-left: 1em; padding-right: 1em; text-align: center; vertical-align: top\">{&#x27;melbourne&#x27;: 1.0,<br>&#x27;college&#x27;: 1.0, &#x27;para ...</td>\n",
       "    </tr>\n",
       "    <tr>\n",
       "        <td style=\"padding-left: 1em; padding-right: 1em; text-align: center; vertical-align: top\">&lt;http://dbpedia.org/resou<br>rce/Alfred_J._Lewy&gt; ...</td>\n",
       "        <td style=\"padding-left: 1em; padding-right: 1em; text-align: center; vertical-align: top\">Alfred J. Lewy</td>\n",
       "        <td style=\"padding-left: 1em; padding-right: 1em; text-align: center; vertical-align: top\">alfred j lewy aka sandy<br>lewy graduated from ...</td>\n",
       "        <td style=\"padding-left: 1em; padding-right: 1em; text-align: center; vertical-align: top\">{&#x27;time&#x27;: 1.0, &#x27;each&#x27;:<br>1.0, &#x27;rhythms&#x27;: 1.0, ...</td>\n",
       "    </tr>\n",
       "    <tr>\n",
       "        <td style=\"padding-left: 1em; padding-right: 1em; text-align: center; vertical-align: top\">&lt;http://dbpedia.org/resou<br>rce/Harpdog_Brown&gt; ...</td>\n",
       "        <td style=\"padding-left: 1em; padding-right: 1em; text-align: center; vertical-align: top\">Harpdog Brown</td>\n",
       "        <td style=\"padding-left: 1em; padding-right: 1em; text-align: center; vertical-align: top\">harpdog brown is a singer<br>and harmonica player who ...</td>\n",
       "        <td style=\"padding-left: 1em; padding-right: 1em; text-align: center; vertical-align: top\">{&#x27;time&#x27;: 1.0, &#x27;honored&#x27;:<br>1.0, &#x27;maple&#x27;: 1.0, ...</td>\n",
       "    </tr>\n",
       "    <tr>\n",
       "        <td style=\"padding-left: 1em; padding-right: 1em; text-align: center; vertical-align: top\">&lt;http://dbpedia.org/resou<br>rce/Franz_Rottensteiner&gt; ...</td>\n",
       "        <td style=\"padding-left: 1em; padding-right: 1em; text-align: center; vertical-align: top\">Franz Rottensteiner</td>\n",
       "        <td style=\"padding-left: 1em; padding-right: 1em; text-align: center; vertical-align: top\">franz rottensteiner born<br>in waidmannsfeld lower ...</td>\n",
       "        <td style=\"padding-left: 1em; padding-right: 1em; text-align: center; vertical-align: top\">{&#x27;kurdlawitzpreis&#x27;: 1.0,<br>&#x27;this&#x27;: 1.0, &#x27;occasion&#x27;: ...</td>\n",
       "    </tr>\n",
       "    <tr>\n",
       "        <td style=\"padding-left: 1em; padding-right: 1em; text-align: center; vertical-align: top\">&lt;http://dbpedia.org/resou<br>rce/G-Enka&gt; ...</td>\n",
       "        <td style=\"padding-left: 1em; padding-right: 1em; text-align: center; vertical-align: top\">G-Enka</td>\n",
       "        <td style=\"padding-left: 1em; padding-right: 1em; text-align: center; vertical-align: top\">henry krvits born 30<br>december 1974 in tallinn ...</td>\n",
       "        <td style=\"padding-left: 1em; padding-right: 1em; text-align: center; vertical-align: top\">{&#x27;curtis&#x27;: 1.0, &#x27;promo&#x27;:<br>1.0, &#x27;2007&#x27;: 1.0, &#x27;ce ...</td>\n",
       "    </tr>\n",
       "    <tr>\n",
       "        <td style=\"padding-left: 1em; padding-right: 1em; text-align: center; vertical-align: top\">&lt;http://dbpedia.org/resou<br>rce/Sam_Henderson&gt; ...</td>\n",
       "        <td style=\"padding-left: 1em; padding-right: 1em; text-align: center; vertical-align: top\">Sam Henderson</td>\n",
       "        <td style=\"padding-left: 1em; padding-right: 1em; text-align: center; vertical-align: top\">sam henderson born<br>october 18 1969 is an ...</td>\n",
       "        <td style=\"padding-left: 1em; padding-right: 1em; text-align: center; vertical-align: top\">{&#x27;journal&#x27;: 1.0,<br>&#x27;niblit&#x27;: 1.0, ...</td>\n",
       "    </tr>\n",
       "    <tr>\n",
       "        <td style=\"padding-left: 1em; padding-right: 1em; text-align: center; vertical-align: top\">&lt;http://dbpedia.org/resou<br>rce/Aaron_LaCrate&gt; ...</td>\n",
       "        <td style=\"padding-left: 1em; padding-right: 1em; text-align: center; vertical-align: top\">Aaron LaCrate</td>\n",
       "        <td style=\"padding-left: 1em; padding-right: 1em; text-align: center; vertical-align: top\">aaron lacrate is an<br>american music producer ...</td>\n",
       "        <td style=\"padding-left: 1em; padding-right: 1em; text-align: center; vertical-align: top\">{&#x27;including&#x27;: 1.0,<br>&#x27;artists&#x27;: 1.0, &#x27;local&#x27;: ...</td>\n",
       "    </tr>\n",
       "    <tr>\n",
       "        <td style=\"padding-left: 1em; padding-right: 1em; text-align: center; vertical-align: top\">&lt;http://dbpedia.org/resou<br>rce/Trevor_Ferguson&gt; ...</td>\n",
       "        <td style=\"padding-left: 1em; padding-right: 1em; text-align: center; vertical-align: top\">Trevor Ferguson</td>\n",
       "        <td style=\"padding-left: 1em; padding-right: 1em; text-align: center; vertical-align: top\">trevor ferguson aka john<br>farrow born 11 november ...</td>\n",
       "        <td style=\"padding-left: 1em; padding-right: 1em; text-align: center; vertical-align: top\">{&#x27;concordia&#x27;: 1.0,<br>&#x27;creative&#x27;: 1.0, ...</td>\n",
       "    </tr>\n",
       "    <tr>\n",
       "        <td style=\"padding-left: 1em; padding-right: 1em; text-align: center; vertical-align: top\">&lt;http://dbpedia.org/resou<br>rce/Grant_Nelson&gt; ...</td>\n",
       "        <td style=\"padding-left: 1em; padding-right: 1em; text-align: center; vertical-align: top\">Grant Nelson</td>\n",
       "        <td style=\"padding-left: 1em; padding-right: 1em; text-align: center; vertical-align: top\">grant nelson born 27<br>april 1971 in london  ...</td>\n",
       "        <td style=\"padding-left: 1em; padding-right: 1em; text-align: center; vertical-align: top\">{&#x27;knuckles&#x27;: 1.0,<br>&#x27;simply&#x27;: 1.0, &#x27;brand&#x27;: ...</td>\n",
       "    </tr>\n",
       "    <tr>\n",
       "        <td style=\"padding-left: 1em; padding-right: 1em; text-align: center; vertical-align: top\">&lt;http://dbpedia.org/resou<br>rce/Cathy_Caruth&gt; ...</td>\n",
       "        <td style=\"padding-left: 1em; padding-right: 1em; text-align: center; vertical-align: top\">Cathy Caruth</td>\n",
       "        <td style=\"padding-left: 1em; padding-right: 1em; text-align: center; vertical-align: top\">cathy caruth born 1955 is<br>frank h t rhodes ...</td>\n",
       "        <td style=\"padding-left: 1em; padding-right: 1em; text-align: center; vertical-align: top\">{&#x27;n3&#x27;: 1.0, &#x27;2002&#x27;: 1.0,<br>&#x27;harvard&#x27;: 1.0, &#x27;tria ...</td>\n",
       "    </tr>\n",
       "</table>\n",
       "<table frame=\"box\" rules=\"cols\">\n",
       "    <tr>\n",
       "        <th style=\"padding-left: 1em; padding-right: 1em; text-align: center\">tfidf</th>\n",
       "    </tr>\n",
       "    <tr>\n",
       "        <td style=\"padding-left: 1em; padding-right: 1em; text-align: center; vertical-align: top\">{&#x27;melbourne&#x27;:<br>3.8914310119380633, ...</td>\n",
       "    </tr>\n",
       "    <tr>\n",
       "        <td style=\"padding-left: 1em; padding-right: 1em; text-align: center; vertical-align: top\">{&#x27;time&#x27;:<br>1.3253342074200498, ...</td>\n",
       "    </tr>\n",
       "    <tr>\n",
       "        <td style=\"padding-left: 1em; padding-right: 1em; text-align: center; vertical-align: top\">{&#x27;time&#x27;:<br>1.3253342074200498, ...</td>\n",
       "    </tr>\n",
       "    <tr>\n",
       "        <td style=\"padding-left: 1em; padding-right: 1em; text-align: center; vertical-align: top\">{&#x27;kurdlawitzpreis&#x27;:<br>10.986495389225194, ...</td>\n",
       "    </tr>\n",
       "    <tr>\n",
       "        <td style=\"padding-left: 1em; padding-right: 1em; text-align: center; vertical-align: top\">{&#x27;curtis&#x27;:<br>5.299520032885375, ...</td>\n",
       "    </tr>\n",
       "    <tr>\n",
       "        <td style=\"padding-left: 1em; padding-right: 1em; text-align: center; vertical-align: top\">{&#x27;journal&#x27;:<br>3.025473923341824, ...</td>\n",
       "    </tr>\n",
       "    <tr>\n",
       "        <td style=\"padding-left: 1em; padding-right: 1em; text-align: center; vertical-align: top\">{&#x27;including&#x27;:<br>1.2272824458461182, ...</td>\n",
       "    </tr>\n",
       "    <tr>\n",
       "        <td style=\"padding-left: 1em; padding-right: 1em; text-align: center; vertical-align: top\">{&#x27;concordia&#x27;:<br>6.250296940830698, ...</td>\n",
       "    </tr>\n",
       "    <tr>\n",
       "        <td style=\"padding-left: 1em; padding-right: 1em; text-align: center; vertical-align: top\">{&#x27;knuckles&#x27;:<br>8.042056410058754, ...</td>\n",
       "    </tr>\n",
       "    <tr>\n",
       "        <td style=\"padding-left: 1em; padding-right: 1em; text-align: center; vertical-align: top\">{&#x27;n3&#x27;:<br>10.293348208665249, ...</td>\n",
       "    </tr>\n",
       "</table>\n",
       "[59071 rows x 5 columns]<br/>Note: Only the head of the SFrame is printed.<br/>You can use print_rows(num_rows=m, num_columns=n) to print more rows and columns.\n",
       "</div>"
      ],
      "text/plain": [
       "Columns:\n",
       "\tURI\tstr\n",
       "\tname\tstr\n",
       "\ttext\tstr\n",
       "\tword_count\tdict\n",
       "\ttfidf\tdict\n",
       "\n",
       "Rows: 59071\n",
       "\n",
       "Data:\n",
       "+-------------------------------+---------------------+\n",
       "|              URI              |         name        |\n",
       "+-------------------------------+---------------------+\n",
       "| <http://dbpedia.org/resour... |    Digby Morrell    |\n",
       "| <http://dbpedia.org/resour... |    Alfred J. Lewy   |\n",
       "| <http://dbpedia.org/resour... |    Harpdog Brown    |\n",
       "| <http://dbpedia.org/resour... | Franz Rottensteiner |\n",
       "| <http://dbpedia.org/resour... |        G-Enka       |\n",
       "| <http://dbpedia.org/resour... |    Sam Henderson    |\n",
       "| <http://dbpedia.org/resour... |    Aaron LaCrate    |\n",
       "| <http://dbpedia.org/resour... |   Trevor Ferguson   |\n",
       "| <http://dbpedia.org/resour... |     Grant Nelson    |\n",
       "| <http://dbpedia.org/resour... |     Cathy Caruth    |\n",
       "+-------------------------------+---------------------+\n",
       "+-------------------------------+-------------------------------+\n",
       "|              text             |           word_count          |\n",
       "+-------------------------------+-------------------------------+\n",
       "| digby morrell born 10 octo... | {'melbourne': 1.0, 'colleg... |\n",
       "| alfred j lewy aka sandy le... | {'time': 1.0, 'each': 1.0,... |\n",
       "| harpdog brown is a singer ... | {'time': 1.0, 'honored': 1... |\n",
       "| franz rottensteiner born i... | {'kurdlawitzpreis': 1.0, '... |\n",
       "| henry krvits born 30 decem... | {'curtis': 1.0, 'promo': 1... |\n",
       "| sam henderson born october... | {'journal': 1.0, 'niblit':... |\n",
       "| aaron lacrate is an americ... | {'including': 1.0, 'artist... |\n",
       "| trevor ferguson aka john f... | {'concordia': 1.0, 'creati... |\n",
       "| grant nelson born 27 april... | {'knuckles': 1.0, 'simply'... |\n",
       "| cathy caruth born 1955 is ... | {'n3': 1.0, '2002': 1.0, '... |\n",
       "+-------------------------------+-------------------------------+\n",
       "+-------------------------------+\n",
       "|             tfidf             |\n",
       "+-------------------------------+\n",
       "| {'melbourne': 3.8914310119... |\n",
       "| {'time': 1.325334207420049... |\n",
       "| {'time': 1.325334207420049... |\n",
       "| {'kurdlawitzpreis': 10.986... |\n",
       "| {'curtis': 5.2995200328853... |\n",
       "| {'journal': 3.025473923341... |\n",
       "| {'including': 1.2272824458... |\n",
       "| {'concordia': 6.2502969408... |\n",
       "| {'knuckles': 8.04205641005... |\n",
       "| {'n3': 10.293348208665249,... |\n",
       "+-------------------------------+\n",
       "[59071 rows x 5 columns]\n",
       "Note: Only the head of the SFrame is printed.\n",
       "You can use print_rows(num_rows=m, num_columns=n) to print more rows and columns."
      ]
     },
     "execution_count": 46,
     "metadata": {},
     "output_type": "execute_result"
    }
   ],
   "source": [
    "people"
   ]
  },
  {
   "cell_type": "markdown",
   "metadata": {},
   "source": [
    "## Examine the TF-IDF for the Obama article"
   ]
  },
  {
   "cell_type": "code",
   "execution_count": 47,
   "metadata": {},
   "outputs": [
    {
     "data": {
      "text/html": [
       "<div style=\"max-height:1000px;max-width:1500px;overflow:auto;\"><table frame=\"box\" rules=\"cols\">\n",
       "    <tr>\n",
       "        <th style=\"padding-left: 1em; padding-right: 1em; text-align: center\">word</th>\n",
       "        <th style=\"padding-left: 1em; padding-right: 1em; text-align: center\">tfidf</th>\n",
       "    </tr>\n",
       "    <tr>\n",
       "        <td style=\"padding-left: 1em; padding-right: 1em; text-align: center; vertical-align: top\">obama</td>\n",
       "        <td style=\"padding-left: 1em; padding-right: 1em; text-align: center; vertical-align: top\">43.2956530720749</td>\n",
       "    </tr>\n",
       "    <tr>\n",
       "        <td style=\"padding-left: 1em; padding-right: 1em; text-align: center; vertical-align: top\">act</td>\n",
       "        <td style=\"padding-left: 1em; padding-right: 1em; text-align: center; vertical-align: top\">27.67822262297991</td>\n",
       "    </tr>\n",
       "    <tr>\n",
       "        <td style=\"padding-left: 1em; padding-right: 1em; text-align: center; vertical-align: top\">iraq</td>\n",
       "        <td style=\"padding-left: 1em; padding-right: 1em; text-align: center; vertical-align: top\">17.747378587965535</td>\n",
       "    </tr>\n",
       "    <tr>\n",
       "        <td style=\"padding-left: 1em; padding-right: 1em; text-align: center; vertical-align: top\">control</td>\n",
       "        <td style=\"padding-left: 1em; padding-right: 1em; text-align: center; vertical-align: top\">14.887060845181308</td>\n",
       "    </tr>\n",
       "    <tr>\n",
       "        <td style=\"padding-left: 1em; padding-right: 1em; text-align: center; vertical-align: top\">law</td>\n",
       "        <td style=\"padding-left: 1em; padding-right: 1em; text-align: center; vertical-align: top\">14.722935761763422</td>\n",
       "    </tr>\n",
       "    <tr>\n",
       "        <td style=\"padding-left: 1em; padding-right: 1em; text-align: center; vertical-align: top\">ordered</td>\n",
       "        <td style=\"padding-left: 1em; padding-right: 1em; text-align: center; vertical-align: top\">14.533373950913514</td>\n",
       "    </tr>\n",
       "    <tr>\n",
       "        <td style=\"padding-left: 1em; padding-right: 1em; text-align: center; vertical-align: top\">military</td>\n",
       "        <td style=\"padding-left: 1em; padding-right: 1em; text-align: center; vertical-align: top\">13.115932778499415</td>\n",
       "    </tr>\n",
       "    <tr>\n",
       "        <td style=\"padding-left: 1em; padding-right: 1em; text-align: center; vertical-align: top\">involvement</td>\n",
       "        <td style=\"padding-left: 1em; padding-right: 1em; text-align: center; vertical-align: top\">12.784385241175055</td>\n",
       "    </tr>\n",
       "    <tr>\n",
       "        <td style=\"padding-left: 1em; padding-right: 1em; text-align: center; vertical-align: top\">response</td>\n",
       "        <td style=\"padding-left: 1em; padding-right: 1em; text-align: center; vertical-align: top\">12.784385241175055</td>\n",
       "    </tr>\n",
       "    <tr>\n",
       "        <td style=\"padding-left: 1em; padding-right: 1em; text-align: center; vertical-align: top\">democratic</td>\n",
       "        <td style=\"padding-left: 1em; padding-right: 1em; text-align: center; vertical-align: top\">12.410688697332166</td>\n",
       "    </tr>\n",
       "</table>\n",
       "[273 rows x 2 columns]<br/>Note: Only the head of the SFrame is printed.<br/>You can use print_rows(num_rows=m, num_columns=n) to print more rows and columns.\n",
       "</div>"
      ],
      "text/plain": [
       "Columns:\n",
       "\tword\tstr\n",
       "\ttfidf\tfloat\n",
       "\n",
       "Rows: 273\n",
       "\n",
       "Data:\n",
       "+-------------+--------------------+\n",
       "|     word    |       tfidf        |\n",
       "+-------------+--------------------+\n",
       "|    obama    |  43.2956530720749  |\n",
       "|     act     | 27.67822262297991  |\n",
       "|     iraq    | 17.747378587965535 |\n",
       "|   control   | 14.887060845181308 |\n",
       "|     law     | 14.722935761763422 |\n",
       "|   ordered   | 14.533373950913514 |\n",
       "|   military  | 13.115932778499415 |\n",
       "| involvement | 12.784385241175055 |\n",
       "|   response  | 12.784385241175055 |\n",
       "|  democratic | 12.410688697332166 |\n",
       "+-------------+--------------------+\n",
       "[273 rows x 2 columns]\n",
       "Note: Only the head of the SFrame is printed.\n",
       "You can use print_rows(num_rows=m, num_columns=n) to print more rows and columns."
      ]
     },
     "execution_count": 47,
     "metadata": {},
     "output_type": "execute_result"
    }
   ],
   "source": [
    "obama = people[people['name'] == 'Barack Obama']\n",
    "obama[['tfidf']].stack('tfidf',new_column_name=['word','tfidf']).sort('tfidf',ascending=False)"
   ]
  },
  {
   "cell_type": "markdown",
   "metadata": {},
   "source": [
    "## Examine the TF-IDF for Clooney"
   ]
  },
  {
   "cell_type": "code",
   "execution_count": 48,
   "metadata": {},
   "outputs": [
    {
     "data": {
      "text/html": [
       "<div style=\"max-height:1000px;max-width:1500px;overflow:auto;\"><table frame=\"box\" rules=\"cols\">\n",
       "    <tr>\n",
       "        <th style=\"padding-left: 1em; padding-right: 1em; text-align: center\">word</th>\n",
       "        <th style=\"padding-left: 1em; padding-right: 1em; text-align: center\">tfidf</th>\n",
       "    </tr>\n",
       "    <tr>\n",
       "        <td style=\"padding-left: 1em; padding-right: 1em; text-align: center; vertical-align: top\">clooney</td>\n",
       "        <td style=\"padding-left: 1em; padding-right: 1em; text-align: center; vertical-align: top\">30.47679823695488</td>\n",
       "    </tr>\n",
       "    <tr>\n",
       "        <td style=\"padding-left: 1em; padding-right: 1em; text-align: center; vertical-align: top\">thriller</td>\n",
       "        <td style=\"padding-left: 1em; padding-right: 1em; text-align: center; vertical-align: top\">19.64459743254604</td>\n",
       "    </tr>\n",
       "    <tr>\n",
       "        <td style=\"padding-left: 1em; padding-right: 1em; text-align: center; vertical-align: top\">drama</td>\n",
       "        <td style=\"padding-left: 1em; padding-right: 1em; text-align: center; vertical-align: top\">13.544372218899177</td>\n",
       "    </tr>\n",
       "    <tr>\n",
       "        <td style=\"padding-left: 1em; padding-right: 1em; text-align: center; vertical-align: top\">comedydrama</td>\n",
       "        <td style=\"padding-left: 1em; padding-right: 1em; text-align: center; vertical-align: top\">12.973371437789858</td>\n",
       "    </tr>\n",
       "    <tr>\n",
       "        <td style=\"padding-left: 1em; padding-right: 1em; text-align: center; vertical-align: top\">er</td>\n",
       "        <td style=\"padding-left: 1em; padding-right: 1em; text-align: center; vertical-align: top\">12.782751078181208</td>\n",
       "    </tr>\n",
       "    <tr>\n",
       "        <td style=\"padding-left: 1em; padding-right: 1em; text-align: center; vertical-align: top\">actor</td>\n",
       "        <td style=\"padding-left: 1em; padding-right: 1em; text-align: center; vertical-align: top\">11.832160900443771</td>\n",
       "    </tr>\n",
       "    <tr>\n",
       "        <td style=\"padding-left: 1em; padding-right: 1em; text-align: center; vertical-align: top\">categoriesclooney</td>\n",
       "        <td style=\"padding-left: 1em; padding-right: 1em; text-align: center; vertical-align: top\">10.986495389225194</td>\n",
       "    </tr>\n",
       "    <tr>\n",
       "        <td style=\"padding-left: 1em; padding-right: 1em; text-align: center; vertical-align: top\">producingclooney</td>\n",
       "        <td style=\"padding-left: 1em; padding-right: 1em; text-align: center; vertical-align: top\">10.986495389225194</td>\n",
       "    </tr>\n",
       "    <tr>\n",
       "        <td style=\"padding-left: 1em; padding-right: 1em; text-align: center; vertical-align: top\">heslov</td>\n",
       "        <td style=\"padding-left: 1em; padding-right: 1em; text-align: center; vertical-align: top\">10.986495389225194</td>\n",
       "    </tr>\n",
       "    <tr>\n",
       "        <td style=\"padding-left: 1em; padding-right: 1em; text-align: center; vertical-align: top\">comedy</td>\n",
       "        <td style=\"padding-left: 1em; padding-right: 1em; text-align: center; vertical-align: top\">10.481205264908446</td>\n",
       "    </tr>\n",
       "</table>\n",
       "[239 rows x 2 columns]<br/>Note: Only the head of the SFrame is printed.<br/>You can use print_rows(num_rows=m, num_columns=n) to print more rows and columns.\n",
       "</div>"
      ],
      "text/plain": [
       "Columns:\n",
       "\tword\tstr\n",
       "\ttfidf\tfloat\n",
       "\n",
       "Rows: 239\n",
       "\n",
       "Data:\n",
       "+-------------------+--------------------+\n",
       "|        word       |       tfidf        |\n",
       "+-------------------+--------------------+\n",
       "|      clooney      | 30.47679823695488  |\n",
       "|      thriller     | 19.64459743254604  |\n",
       "|       drama       | 13.544372218899177 |\n",
       "|    comedydrama    | 12.973371437789858 |\n",
       "|         er        | 12.782751078181208 |\n",
       "|       actor       | 11.832160900443771 |\n",
       "| categoriesclooney | 10.986495389225194 |\n",
       "|  producingclooney | 10.986495389225194 |\n",
       "|       heslov      | 10.986495389225194 |\n",
       "|       comedy      | 10.481205264908446 |\n",
       "+-------------------+--------------------+\n",
       "[239 rows x 2 columns]\n",
       "Note: Only the head of the SFrame is printed.\n",
       "You can use print_rows(num_rows=m, num_columns=n) to print more rows and columns."
      ]
     },
     "execution_count": 48,
     "metadata": {},
     "output_type": "execute_result"
    }
   ],
   "source": [
    "clooney = people[people['name'] == 'George Clooney']\n",
    "clooney[['tfidf']].stack('tfidf',new_column_name=['word','tfidf']).sort('tfidf',ascending=False)"
   ]
  },
  {
   "cell_type": "markdown",
   "metadata": {},
   "source": [
    "# Manually evaluate the distance between certain people's articles"
   ]
  },
  {
   "cell_type": "code",
   "execution_count": 49,
   "metadata": {},
   "outputs": [],
   "source": [
    "clinton = people[people['name'] == 'Bill Clinton']\n",
    "beckham = people[people['name'] == 'David Beckham']"
   ]
  },
  {
   "cell_type": "markdown",
   "metadata": {},
   "source": [
    "## Is Obama closer to Clinton or to Beckham?"
   ]
  },
  {
   "cell_type": "code",
   "execution_count": 56,
   "metadata": {
    "scrolled": true
   },
   "outputs": [
    {
     "data": {
      "text/plain": [
       "{'cuba': 5.005081177970713,\n",
       " 'relations': 3.445873860568042,\n",
       " 'sought': 4.327201469541557,\n",
       " 'combat': 4.932056042955824,\n",
       " 'ending': 4.547145018125096,\n",
       " 'withdrawal': 6.27696518791286,\n",
       " 'state': 1.7090572737165175,\n",
       " 'islamic': 4.785986215182504,\n",
       " 'by': 0.37455341206197373,\n",
       " 'gains': 6.7238155121838785,\n",
       " 'unconstitutional': 6.8276123058655225,\n",
       " '8': 2.7572509724892824,\n",
       " 'marriage': 4.115404094614648,\n",
       " 'down': 2.9476606314374463,\n",
       " 'urged': 6.199003646443148,\n",
       " 'process': 3.7451291059028766,\n",
       " 'which': 0.7674309670437692,\n",
       " 'filed': 4.70797396505935,\n",
       " 'administration': 3.2952952917023315,\n",
       " 'while': 1.8364359481339414,\n",
       " 'americans': 4.761936959949835,\n",
       " 'full': 3.003055326218652,\n",
       " 'lgbt': 5.5883326877074415,\n",
       " 'called': 2.0784770664403074,\n",
       " 'proposition': 6.926052378678775,\n",
       " 'shooting': 4.682046586803213,\n",
       " 'elementary': 4.96062941539988,\n",
       " 'gun': 5.269467687818973,\n",
       " 'related': 3.723866788250953,\n",
       " 'policies': 4.660345916070095,\n",
       " 'promoted': 3.5191243223076345,\n",
       " 'supreme': 3.9140734886878232,\n",
       " 'has': 1.713990158976156,\n",
       " '2012': 1.7938099524877322,\n",
       " 'reelected': 3.68265216394749,\n",
       " '2012obama': 10.986495389225194,\n",
       " 'continued': 2.720588055069447,\n",
       " 'budget': 4.523465932304524,\n",
       " 'californias': 5.923900356198227,\n",
       " 'limit': 5.355283607403829,\n",
       " 'nations': 3.361876403065796,\n",
       " 'briefs': 7.460134864609033,\n",
       " 'not': 1.5880170751336171,\n",
       " 'or': 1.9128915408224825,\n",
       " 'lengthy': 5.862531409821935,\n",
       " '63': 5.22130428644035,\n",
       " 'lost': 2.731706463076469,\n",
       " '2011': 5.107041270312875,\n",
       " 'laden': 6.709829270209139,\n",
       " 'against': 2.0079609791418744,\n",
       " 'osama': 6.604468754551313,\n",
       " 'obamacare': 9.04058524016988,\n",
       " 'that': 0.6614069466714981,\n",
       " 'defense': 3.794313330511949,\n",
       " 'national': 2.3721863295447827,\n",
       " 'operation': 4.3584540130456615,\n",
       " 'ordered': 14.533373950913514,\n",
       " 'made': 1.519886215502974,\n",
       " 'earning': 3.857197840295821,\n",
       " 'control': 14.887060845181308,\n",
       " 'victory': 3.384593429350028,\n",
       " 'arms': 5.030658019760364,\n",
       " 'afghanistan': 9.4197037997671,\n",
       " 'economic': 3.2704801225826072,\n",
       " 'three': 1.4915025293575952,\n",
       " 'troop': 7.248825770941826,\n",
       " 'primaries': 6.669007275688884,\n",
       " 'war': 2.809822617276739,\n",
       " 'involvement': 12.784385241175055,\n",
       " 'with': 0.6074059275661821,\n",
       " 'foreign': 6.3816977057812005,\n",
       " 'relief': 8.842460838379667,\n",
       " 'repeal': 7.297615935111258,\n",
       " 'convention': 4.417013968810898,\n",
       " 'street': 3.250188292676909,\n",
       " 'referred': 4.255477288743111,\n",
       " 'military': 13.115932778499415,\n",
       " 'constitutional': 4.529725733653031,\n",
       " 'consumer': 4.7540473726746715,\n",
       " 'care': 3.916621260766622,\n",
       " 'major': 2.0581201293715634,\n",
       " 'patient': 5.6393878585077255,\n",
       " 'start': 3.281232914358869,\n",
       " 'whether': 4.744272123770029,\n",
       " 'federal': 3.0888272384982884,\n",
       " 'term': 9.319341564760851,\n",
       " 'initiatives': 4.895185507147496,\n",
       " 'ask': 5.510031837293684,\n",
       " 'domestic': 8.967410686619141,\n",
       " 'increased': 4.75012579902149,\n",
       " 'other': 1.4424007566948476,\n",
       " 'over': 1.4878231559557336,\n",
       " 'democratic': 12.410688697332166,\n",
       " 'creation': 4.03568062078261,\n",
       " 'romney': 6.843360662833661,\n",
       " 'job': 3.446936559924164,\n",
       " 'school': 3.6683618376520553,\n",
       " 'russia': 4.025199343315028,\n",
       " 'reauthorization': 8.907053847545358,\n",
       " 'degree': 2.0206498944742566,\n",
       " 'insurance': 4.594578275832593,\n",
       " 'unemployment': 6.642689967371511,\n",
       " 'normalize': 10.293348208665249,\n",
       " 'tax': 4.545548848592274,\n",
       " 'reinvestment': 8.421546031763658,\n",
       " 'recovery': 5.103173000736915,\n",
       " 'form': 3.233730580373866,\n",
       " 'into': 1.6050629424066056,\n",
       " 'recession': 6.642689967371511,\n",
       " 'libya': 6.332535039067671,\n",
       " 'states': 5.473200989631017,\n",
       " 'great': 2.7682474625394486,\n",
       " 'sandy': 5.493433945884646,\n",
       " 'legislation': 4.687546142369252,\n",
       " 'stimulus': 7.654290879049991,\n",
       " 'mitt': 6.812108119329557,\n",
       " 'levels': 4.647901311022012,\n",
       " 'reform': 4.092839034622559,\n",
       " '1961': 3.3207419573634955,\n",
       " 'as': 0.7630171320744707,\n",
       " 'doddfrank': 9.887883100557085,\n",
       " 'operations': 3.811771079388818,\n",
       " 'sworn': 4.96062941539988,\n",
       " 'years': 1.0752380994247055,\n",
       " 'laureateduring': 10.986495389225194,\n",
       " 'prize': 2.7453192387302345,\n",
       " '1996': 2.135691193468776,\n",
       " 'named': 2.0300155412252816,\n",
       " 'nine': 3.2624907325491286,\n",
       " '2009': 4.693309450812809,\n",
       " '20': 4.88376320446593,\n",
       " 'included': 2.4446095852185854,\n",
       " 'began': 1.727460095710253,\n",
       " 'on': 0.36882550670120073,\n",
       " '13th': 4.9534091674263925,\n",
       " 'inaugurated': 6.27696518791286,\n",
       " 'to': 0.6572291275451891,\n",
       " 'general': 2.220724845237937,\n",
       " 'second': 3.344851662973069,\n",
       " 'rodham': 7.690658523220865,\n",
       " 'two': 1.0988831858473562,\n",
       " 'john': 1.9913303989140443,\n",
       " 'address': 4.8023464982877115,\n",
       " 'sufficient': 6.432618497624653,\n",
       " 'protection': 8.698474715881474,\n",
       " 'hold': 4.144879912747602,\n",
       " 'won': 1.3836400683164753,\n",
       " 'hillary': 6.002888767516858,\n",
       " 'born': 0.53639254752953,\n",
       " 'close': 3.5416621153330006,\n",
       " 'after': 3.7773337680052257,\n",
       " 'a': 0.039334291308082026,\n",
       " 'treaty': 5.89889905399281,\n",
       " 'seats': 5.000043383940756,\n",
       " 'november': 3.9453132752336004,\n",
       " 'election': 7.712676160711769,\n",
       " 'wall': 4.021415043623787,\n",
       " 'presidential': 7.386955418904825,\n",
       " 'often': 2.862641126119281,\n",
       " 'july': 1.9428000946579587,\n",
       " 'organizer': 5.501698455734539,\n",
       " 'primary': 6.710127449296579,\n",
       " 'nobel': 5.075698745184667,\n",
       " 'party': 7.0620334604226676,\n",
       " 'court': 2.896399606044235,\n",
       " 'march': 1.9573172463231197,\n",
       " '1992': 2.278351314316948,\n",
       " 'bm': 7.202305755306933,\n",
       " 'keynote': 5.433535804303577,\n",
       " 'campaign': 9.077468342511231,\n",
       " '2000in': 6.250296940830698,\n",
       " 'clinton': 4.542364132524754,\n",
       " 'during': 2.634930295807099,\n",
       " 'ended': 3.3430124821479934,\n",
       " 'he': 1.493579903611068,\n",
       " 'house': 4.651096468328522,\n",
       " 'bin': 5.6158573610975315,\n",
       " 'and': 0.01564802185902329,\n",
       " 'senate': 10.164288179703693,\n",
       " 'attention': 3.4269358932174945,\n",
       " 'district': 2.774469584601757,\n",
       " 'new': 0.8871532656125274,\n",
       " 'worked': 1.553891853362109,\n",
       " 'representing': 3.535253704237518,\n",
       " 'mccain': 6.766987684049088,\n",
       " 'current': 2.8308461188591933,\n",
       " 'january': 5.656236009557883,\n",
       " 'terms': 3.8240978918694766,\n",
       " '2004': 5.071033082507702,\n",
       " '2010': 3.185667920243947,\n",
       " '2008': 1.5093391374786154,\n",
       " 'from': 0.8812660139569034,\n",
       " 'months': 3.0427126967665687,\n",
       " 'policy': 6.095386282141427,\n",
       " 'at': 0.43063857330825733,\n",
       " 'strike': 5.025490049601921,\n",
       " 'for': 0.29145011737314763,\n",
       " 'civil': 3.3244978303233013,\n",
       " 'taught': 2.8485149347730556,\n",
       " 'brk': 10.293348208665249,\n",
       " 'attorney': 3.6593720969659014,\n",
       " 'running': 3.3516747114796512,\n",
       " 'before': 1.4967823726683713,\n",
       " 'then': 1.4309354361561304,\n",
       " 'chicago': 5.858235801334405,\n",
       " '4': 2.437803530749586,\n",
       " 'community': 2.693196030513871,\n",
       " '1997': 2.1298344522079455,\n",
       " 'resulted': 4.015765311081669,\n",
       " 'debt': 5.6158573610975315,\n",
       " 'illinois': 7.480254618245467,\n",
       " 'harvard': 6.634000276435001,\n",
       " 'us': 11.591942692842837,\n",
       " 'review': 3.227734845067532,\n",
       " 'nomination': 3.7697859025157365,\n",
       " 'taxpayer': 7.431147327735781,\n",
       " 'death': 3.1568650000750016,\n",
       " 'law': 14.722935761763422,\n",
       " 'husen': 10.986495389225194,\n",
       " 'dont': 8.28123102792229,\n",
       " 'spending': 4.176352939110058,\n",
       " 'served': 3.0725446998610506,\n",
       " 'equality': 5.341048491581956,\n",
       " 'iraq': 17.747378587965535,\n",
       " 'where': 1.089076212090673,\n",
       " 'columbia': 3.232442750189437,\n",
       " 'unsuccessfully': 4.831637295208776,\n",
       " 'was': 0.3968289280609173,\n",
       " 'hawaii': 4.806478735572622,\n",
       " 'total': 3.2767385247710297,\n",
       " '2007': 1.4879730697555795,\n",
       " 'hook': 6.2951475069960505,\n",
       " 'debate': 4.783959872037272,\n",
       " 'honolulu': 5.880549915324614,\n",
       " 'raise': 4.67476058007228,\n",
       " 'barack': 5.067601534952048,\n",
       " 'tell': 4.804410482508563,\n",
       " 'affordable': 6.134465125305577,\n",
       " 'first': 2.0868146141979307,\n",
       " 'obama': 43.2956530720749,\n",
       " 'hussein': 6.126682984863522,\n",
       " '2013': 1.9545642372230505,\n",
       " 'republicans': 5.592867842872833,\n",
       " 'in': 0.028962190503643476,\n",
       " 'office': 5.2481728232196465,\n",
       " 'american': 3.3821333532750204,\n",
       " 'graduate': 2.6750971107885535,\n",
       " 'is': 0.05523250095103998,\n",
       " 'peace': 3.7928095708300824,\n",
       " 'regained': 5.583818007352915,\n",
       " 'represent': 4.184100625900883,\n",
       " 'defeating': 4.285764279677384,\n",
       " 'signed': 7.552957376250012,\n",
       " 'president': 7.226869291326606,\n",
       " 'united': 4.703766236011668,\n",
       " 'african': 3.582216271187926,\n",
       " 'representatives': 7.484535747243688,\n",
       " 'nominee': 9.43101391473379,\n",
       " '44th': 7.0744723837970485,\n",
       " 'delegates': 6.142308302766603,\n",
       " 'the': 0.004063113702956533,\n",
       " 'his': 2.8887260073502303,\n",
       " 'august': 2.000173951599175,\n",
       " 'republican': 7.207497878972565,\n",
       " 'defeated': 3.4068165661347387,\n",
       " 'university': 1.6946860096423695,\n",
       " 'received': 1.5396609815666638,\n",
       " 'of': 0.07481117158400744,\n",
       " 'receive': 4.448355565457525,\n",
       " 'response': 12.784385241175055,\n",
       " 'ii': 3.3077063910260405,\n",
       " 'act': 27.67822262297991,\n",
       " 'rights': 3.06677562830062}"
      ]
     },
     "execution_count": 56,
     "metadata": {},
     "output_type": "execute_result"
    }
   ],
   "source": [
    "obama['tfidf'][0]"
   ]
  },
  {
   "cell_type": "code",
   "execution_count": 50,
   "metadata": {},
   "outputs": [
    {
     "data": {
      "text/plain": [
       "0.8339854936884276"
      ]
     },
     "execution_count": 50,
     "metadata": {},
     "output_type": "execute_result"
    }
   ],
   "source": [
    "turicreate.distances.cosine(obama['tfidf'][0],clinton['tfidf'][0])"
   ]
  },
  {
   "cell_type": "code",
   "execution_count": 51,
   "metadata": {},
   "outputs": [
    {
     "data": {
      "text/plain": [
       "0.9791305844747478"
      ]
     },
     "execution_count": 51,
     "metadata": {},
     "output_type": "execute_result"
    }
   ],
   "source": [
    "turicreate.distances.cosine(obama['tfidf'][0],beckham['tfidf'][0])"
   ]
  },
  {
   "cell_type": "markdown",
   "metadata": {},
   "source": [
    "# Apply nearest neighbors for retrieval of Wikipedia articles"
   ]
  },
  {
   "cell_type": "markdown",
   "metadata": {},
   "source": [
    "## Build the NN model"
   ]
  },
  {
   "cell_type": "code",
   "execution_count": 26,
   "metadata": {},
   "outputs": [
    {
     "name": "stderr",
     "output_type": "stream",
     "text": [
      "<unknown>:36: DeprecationWarning: invalid escape sequence \\c\n"
     ]
    },
    {
     "data": {
      "text/html": [
       "<pre>Starting brute force nearest neighbors model training.</pre>"
      ],
      "text/plain": [
       "Starting brute force nearest neighbors model training."
      ]
     },
     "metadata": {},
     "output_type": "display_data"
    }
   ],
   "source": [
    "knn_model = turicreate.nearest_neighbors.create(people,features=['tfidf'],label='name')"
   ]
  },
  {
   "cell_type": "markdown",
   "metadata": {},
   "source": [
    "## Use model for retrieval... for example, who is closest to Obama?"
   ]
  },
  {
   "cell_type": "code",
   "execution_count": 27,
   "metadata": {},
   "outputs": [
    {
     "data": {
      "text/html": [
       "<pre>Starting pairwise querying.</pre>"
      ],
      "text/plain": [
       "Starting pairwise querying."
      ]
     },
     "metadata": {},
     "output_type": "display_data"
    },
    {
     "data": {
      "text/html": [
       "<pre>+--------------+---------+-------------+--------------+</pre>"
      ],
      "text/plain": [
       "+--------------+---------+-------------+--------------+"
      ]
     },
     "metadata": {},
     "output_type": "display_data"
    },
    {
     "data": {
      "text/html": [
       "<pre>| Query points | # Pairs | % Complete. | Elapsed Time |</pre>"
      ],
      "text/plain": [
       "| Query points | # Pairs | % Complete. | Elapsed Time |"
      ]
     },
     "metadata": {},
     "output_type": "display_data"
    },
    {
     "data": {
      "text/html": [
       "<pre>+--------------+---------+-------------+--------------+</pre>"
      ],
      "text/plain": [
       "+--------------+---------+-------------+--------------+"
      ]
     },
     "metadata": {},
     "output_type": "display_data"
    },
    {
     "data": {
      "text/html": [
       "<pre>| 0            | 1       | 0.00169288  | 13.126ms     |</pre>"
      ],
      "text/plain": [
       "| 0            | 1       | 0.00169288  | 13.126ms     |"
      ]
     },
     "metadata": {},
     "output_type": "display_data"
    },
    {
     "data": {
      "text/html": [
       "<pre>| Done         |         | 100         | 144.623ms    |</pre>"
      ],
      "text/plain": [
       "| Done         |         | 100         | 144.623ms    |"
      ]
     },
     "metadata": {},
     "output_type": "display_data"
    },
    {
     "data": {
      "text/html": [
       "<pre>+--------------+---------+-------------+--------------+</pre>"
      ],
      "text/plain": [
       "+--------------+---------+-------------+--------------+"
      ]
     },
     "metadata": {},
     "output_type": "display_data"
    },
    {
     "data": {
      "text/html": [
       "<div style=\"max-height:1000px;max-width:1500px;overflow:auto;\"><table frame=\"box\" rules=\"cols\">\n",
       "    <tr>\n",
       "        <th style=\"padding-left: 1em; padding-right: 1em; text-align: center\">query_label</th>\n",
       "        <th style=\"padding-left: 1em; padding-right: 1em; text-align: center\">reference_label</th>\n",
       "        <th style=\"padding-left: 1em; padding-right: 1em; text-align: center\">distance</th>\n",
       "        <th style=\"padding-left: 1em; padding-right: 1em; text-align: center\">rank</th>\n",
       "    </tr>\n",
       "    <tr>\n",
       "        <td style=\"padding-left: 1em; padding-right: 1em; text-align: center; vertical-align: top\">0</td>\n",
       "        <td style=\"padding-left: 1em; padding-right: 1em; text-align: center; vertical-align: top\">Barack Obama</td>\n",
       "        <td style=\"padding-left: 1em; padding-right: 1em; text-align: center; vertical-align: top\">0.0</td>\n",
       "        <td style=\"padding-left: 1em; padding-right: 1em; text-align: center; vertical-align: top\">1</td>\n",
       "    </tr>\n",
       "    <tr>\n",
       "        <td style=\"padding-left: 1em; padding-right: 1em; text-align: center; vertical-align: top\">0</td>\n",
       "        <td style=\"padding-left: 1em; padding-right: 1em; text-align: center; vertical-align: top\">Joe Biden</td>\n",
       "        <td style=\"padding-left: 1em; padding-right: 1em; text-align: center; vertical-align: top\">0.7941176470588236</td>\n",
       "        <td style=\"padding-left: 1em; padding-right: 1em; text-align: center; vertical-align: top\">2</td>\n",
       "    </tr>\n",
       "    <tr>\n",
       "        <td style=\"padding-left: 1em; padding-right: 1em; text-align: center; vertical-align: top\">0</td>\n",
       "        <td style=\"padding-left: 1em; padding-right: 1em; text-align: center; vertical-align: top\">Joe Lieberman</td>\n",
       "        <td style=\"padding-left: 1em; padding-right: 1em; text-align: center; vertical-align: top\">0.7946859903381642</td>\n",
       "        <td style=\"padding-left: 1em; padding-right: 1em; text-align: center; vertical-align: top\">3</td>\n",
       "    </tr>\n",
       "    <tr>\n",
       "        <td style=\"padding-left: 1em; padding-right: 1em; text-align: center; vertical-align: top\">0</td>\n",
       "        <td style=\"padding-left: 1em; padding-right: 1em; text-align: center; vertical-align: top\">Kelly Ayotte</td>\n",
       "        <td style=\"padding-left: 1em; padding-right: 1em; text-align: center; vertical-align: top\">0.8119891008174387</td>\n",
       "        <td style=\"padding-left: 1em; padding-right: 1em; text-align: center; vertical-align: top\">4</td>\n",
       "    </tr>\n",
       "    <tr>\n",
       "        <td style=\"padding-left: 1em; padding-right: 1em; text-align: center; vertical-align: top\">0</td>\n",
       "        <td style=\"padding-left: 1em; padding-right: 1em; text-align: center; vertical-align: top\">Bill Clinton</td>\n",
       "        <td style=\"padding-left: 1em; padding-right: 1em; text-align: center; vertical-align: top\">0.8138528138528138</td>\n",
       "        <td style=\"padding-left: 1em; padding-right: 1em; text-align: center; vertical-align: top\">5</td>\n",
       "    </tr>\n",
       "</table>\n",
       "[5 rows x 4 columns]<br/>\n",
       "</div>"
      ],
      "text/plain": [
       "Columns:\n",
       "\tquery_label\tint\n",
       "\treference_label\tstr\n",
       "\tdistance\tfloat\n",
       "\trank\tint\n",
       "\n",
       "Rows: 5\n",
       "\n",
       "Data:\n",
       "+-------------+-----------------+--------------------+------+\n",
       "| query_label | reference_label |      distance      | rank |\n",
       "+-------------+-----------------+--------------------+------+\n",
       "|      0      |   Barack Obama  |        0.0         |  1   |\n",
       "|      0      |    Joe Biden    | 0.7941176470588236 |  2   |\n",
       "|      0      |  Joe Lieberman  | 0.7946859903381642 |  3   |\n",
       "|      0      |   Kelly Ayotte  | 0.8119891008174387 |  4   |\n",
       "|      0      |   Bill Clinton  | 0.8138528138528138 |  5   |\n",
       "+-------------+-----------------+--------------------+------+\n",
       "[5 rows x 4 columns]"
      ]
     },
     "execution_count": 27,
     "metadata": {},
     "output_type": "execute_result"
    }
   ],
   "source": [
    "knn_model.query(obama)"
   ]
  },
  {
   "cell_type": "markdown",
   "metadata": {},
   "source": [
    "## Other examples of retrieval"
   ]
  },
  {
   "cell_type": "code",
   "execution_count": 28,
   "metadata": {},
   "outputs": [],
   "source": [
    "swift = people[people['name'] == 'Taylor Swift']"
   ]
  },
  {
   "cell_type": "code",
   "execution_count": 29,
   "metadata": {},
   "outputs": [
    {
     "data": {
      "text/html": [
       "<pre>Starting pairwise querying.</pre>"
      ],
      "text/plain": [
       "Starting pairwise querying."
      ]
     },
     "metadata": {},
     "output_type": "display_data"
    },
    {
     "data": {
      "text/html": [
       "<pre>+--------------+---------+-------------+--------------+</pre>"
      ],
      "text/plain": [
       "+--------------+---------+-------------+--------------+"
      ]
     },
     "metadata": {},
     "output_type": "display_data"
    },
    {
     "data": {
      "text/html": [
       "<pre>| Query points | # Pairs | % Complete. | Elapsed Time |</pre>"
      ],
      "text/plain": [
       "| Query points | # Pairs | % Complete. | Elapsed Time |"
      ]
     },
     "metadata": {},
     "output_type": "display_data"
    },
    {
     "data": {
      "text/html": [
       "<pre>+--------------+---------+-------------+--------------+</pre>"
      ],
      "text/plain": [
       "+--------------+---------+-------------+--------------+"
      ]
     },
     "metadata": {},
     "output_type": "display_data"
    },
    {
     "data": {
      "text/html": [
       "<pre>| 0            | 1       | 0.00169288  | 6.956ms      |</pre>"
      ],
      "text/plain": [
       "| 0            | 1       | 0.00169288  | 6.956ms      |"
      ]
     },
     "metadata": {},
     "output_type": "display_data"
    },
    {
     "data": {
      "text/html": [
       "<pre>| Done         |         | 100         | 129.988ms    |</pre>"
      ],
      "text/plain": [
       "| Done         |         | 100         | 129.988ms    |"
      ]
     },
     "metadata": {},
     "output_type": "display_data"
    },
    {
     "data": {
      "text/html": [
       "<pre>+--------------+---------+-------------+--------------+</pre>"
      ],
      "text/plain": [
       "+--------------+---------+-------------+--------------+"
      ]
     },
     "metadata": {},
     "output_type": "display_data"
    },
    {
     "data": {
      "text/html": [
       "<div style=\"max-height:1000px;max-width:1500px;overflow:auto;\"><table frame=\"box\" rules=\"cols\">\n",
       "    <tr>\n",
       "        <th style=\"padding-left: 1em; padding-right: 1em; text-align: center\">query_label</th>\n",
       "        <th style=\"padding-left: 1em; padding-right: 1em; text-align: center\">reference_label</th>\n",
       "        <th style=\"padding-left: 1em; padding-right: 1em; text-align: center\">distance</th>\n",
       "        <th style=\"padding-left: 1em; padding-right: 1em; text-align: center\">rank</th>\n",
       "    </tr>\n",
       "    <tr>\n",
       "        <td style=\"padding-left: 1em; padding-right: 1em; text-align: center; vertical-align: top\">0</td>\n",
       "        <td style=\"padding-left: 1em; padding-right: 1em; text-align: center; vertical-align: top\">Taylor Swift</td>\n",
       "        <td style=\"padding-left: 1em; padding-right: 1em; text-align: center; vertical-align: top\">0.0</td>\n",
       "        <td style=\"padding-left: 1em; padding-right: 1em; text-align: center; vertical-align: top\">1</td>\n",
       "    </tr>\n",
       "    <tr>\n",
       "        <td style=\"padding-left: 1em; padding-right: 1em; text-align: center; vertical-align: top\">0</td>\n",
       "        <td style=\"padding-left: 1em; padding-right: 1em; text-align: center; vertical-align: top\">Carrie Underwood</td>\n",
       "        <td style=\"padding-left: 1em; padding-right: 1em; text-align: center; vertical-align: top\">0.7623188405797101</td>\n",
       "        <td style=\"padding-left: 1em; padding-right: 1em; text-align: center; vertical-align: top\">2</td>\n",
       "    </tr>\n",
       "    <tr>\n",
       "        <td style=\"padding-left: 1em; padding-right: 1em; text-align: center; vertical-align: top\">0</td>\n",
       "        <td style=\"padding-left: 1em; padding-right: 1em; text-align: center; vertical-align: top\">Alicia Keys</td>\n",
       "        <td style=\"padding-left: 1em; padding-right: 1em; text-align: center; vertical-align: top\">0.7647058823529411</td>\n",
       "        <td style=\"padding-left: 1em; padding-right: 1em; text-align: center; vertical-align: top\">3</td>\n",
       "    </tr>\n",
       "    <tr>\n",
       "        <td style=\"padding-left: 1em; padding-right: 1em; text-align: center; vertical-align: top\">0</td>\n",
       "        <td style=\"padding-left: 1em; padding-right: 1em; text-align: center; vertical-align: top\">Jordin Sparks</td>\n",
       "        <td style=\"padding-left: 1em; padding-right: 1em; text-align: center; vertical-align: top\">0.7696335078534031</td>\n",
       "        <td style=\"padding-left: 1em; padding-right: 1em; text-align: center; vertical-align: top\">4</td>\n",
       "    </tr>\n",
       "    <tr>\n",
       "        <td style=\"padding-left: 1em; padding-right: 1em; text-align: center; vertical-align: top\">0</td>\n",
       "        <td style=\"padding-left: 1em; padding-right: 1em; text-align: center; vertical-align: top\">Leona Lewis</td>\n",
       "        <td style=\"padding-left: 1em; padding-right: 1em; text-align: center; vertical-align: top\">0.7761194029850746</td>\n",
       "        <td style=\"padding-left: 1em; padding-right: 1em; text-align: center; vertical-align: top\">5</td>\n",
       "    </tr>\n",
       "</table>\n",
       "[5 rows x 4 columns]<br/>\n",
       "</div>"
      ],
      "text/plain": [
       "Columns:\n",
       "\tquery_label\tint\n",
       "\treference_label\tstr\n",
       "\tdistance\tfloat\n",
       "\trank\tint\n",
       "\n",
       "Rows: 5\n",
       "\n",
       "Data:\n",
       "+-------------+------------------+--------------------+------+\n",
       "| query_label | reference_label  |      distance      | rank |\n",
       "+-------------+------------------+--------------------+------+\n",
       "|      0      |   Taylor Swift   |        0.0         |  1   |\n",
       "|      0      | Carrie Underwood | 0.7623188405797101 |  2   |\n",
       "|      0      |   Alicia Keys    | 0.7647058823529411 |  3   |\n",
       "|      0      |  Jordin Sparks   | 0.7696335078534031 |  4   |\n",
       "|      0      |   Leona Lewis    | 0.7761194029850746 |  5   |\n",
       "+-------------+------------------+--------------------+------+\n",
       "[5 rows x 4 columns]"
      ]
     },
     "execution_count": 29,
     "metadata": {},
     "output_type": "execute_result"
    }
   ],
   "source": [
    "knn_model.query(swift)"
   ]
  },
  {
   "cell_type": "code",
   "execution_count": 30,
   "metadata": {},
   "outputs": [],
   "source": [
    "jolie = people[people['name'] == 'Angelina Jolie']"
   ]
  },
  {
   "cell_type": "code",
   "execution_count": 31,
   "metadata": {},
   "outputs": [
    {
     "data": {
      "text/html": [
       "<pre>Starting pairwise querying.</pre>"
      ],
      "text/plain": [
       "Starting pairwise querying."
      ]
     },
     "metadata": {},
     "output_type": "display_data"
    },
    {
     "data": {
      "text/html": [
       "<pre>+--------------+---------+-------------+--------------+</pre>"
      ],
      "text/plain": [
       "+--------------+---------+-------------+--------------+"
      ]
     },
     "metadata": {},
     "output_type": "display_data"
    },
    {
     "data": {
      "text/html": [
       "<pre>| Query points | # Pairs | % Complete. | Elapsed Time |</pre>"
      ],
      "text/plain": [
       "| Query points | # Pairs | % Complete. | Elapsed Time |"
      ]
     },
     "metadata": {},
     "output_type": "display_data"
    },
    {
     "data": {
      "text/html": [
       "<pre>+--------------+---------+-------------+--------------+</pre>"
      ],
      "text/plain": [
       "+--------------+---------+-------------+--------------+"
      ]
     },
     "metadata": {},
     "output_type": "display_data"
    },
    {
     "data": {
      "text/html": [
       "<pre>| 0            | 1       | 0.00169288  | 10.228ms     |</pre>"
      ],
      "text/plain": [
       "| 0            | 1       | 0.00169288  | 10.228ms     |"
      ]
     },
     "metadata": {},
     "output_type": "display_data"
    },
    {
     "data": {
      "text/html": [
       "<pre>| Done         |         | 100         | 126.019ms    |</pre>"
      ],
      "text/plain": [
       "| Done         |         | 100         | 126.019ms    |"
      ]
     },
     "metadata": {},
     "output_type": "display_data"
    },
    {
     "data": {
      "text/html": [
       "<pre>+--------------+---------+-------------+--------------+</pre>"
      ],
      "text/plain": [
       "+--------------+---------+-------------+--------------+"
      ]
     },
     "metadata": {},
     "output_type": "display_data"
    },
    {
     "data": {
      "text/html": [
       "<div style=\"max-height:1000px;max-width:1500px;overflow:auto;\"><table frame=\"box\" rules=\"cols\">\n",
       "    <tr>\n",
       "        <th style=\"padding-left: 1em; padding-right: 1em; text-align: center\">query_label</th>\n",
       "        <th style=\"padding-left: 1em; padding-right: 1em; text-align: center\">reference_label</th>\n",
       "        <th style=\"padding-left: 1em; padding-right: 1em; text-align: center\">distance</th>\n",
       "        <th style=\"padding-left: 1em; padding-right: 1em; text-align: center\">rank</th>\n",
       "    </tr>\n",
       "    <tr>\n",
       "        <td style=\"padding-left: 1em; padding-right: 1em; text-align: center; vertical-align: top\">0</td>\n",
       "        <td style=\"padding-left: 1em; padding-right: 1em; text-align: center; vertical-align: top\">Angelina Jolie</td>\n",
       "        <td style=\"padding-left: 1em; padding-right: 1em; text-align: center; vertical-align: top\">0.0</td>\n",
       "        <td style=\"padding-left: 1em; padding-right: 1em; text-align: center; vertical-align: top\">1</td>\n",
       "    </tr>\n",
       "    <tr>\n",
       "        <td style=\"padding-left: 1em; padding-right: 1em; text-align: center; vertical-align: top\">0</td>\n",
       "        <td style=\"padding-left: 1em; padding-right: 1em; text-align: center; vertical-align: top\">Brad Pitt</td>\n",
       "        <td style=\"padding-left: 1em; padding-right: 1em; text-align: center; vertical-align: top\">0.7840236686390533</td>\n",
       "        <td style=\"padding-left: 1em; padding-right: 1em; text-align: center; vertical-align: top\">2</td>\n",
       "    </tr>\n",
       "    <tr>\n",
       "        <td style=\"padding-left: 1em; padding-right: 1em; text-align: center; vertical-align: top\">0</td>\n",
       "        <td style=\"padding-left: 1em; padding-right: 1em; text-align: center; vertical-align: top\">Julianne Moore</td>\n",
       "        <td style=\"padding-left: 1em; padding-right: 1em; text-align: center; vertical-align: top\">0.7958579881656804</td>\n",
       "        <td style=\"padding-left: 1em; padding-right: 1em; text-align: center; vertical-align: top\">3</td>\n",
       "    </tr>\n",
       "    <tr>\n",
       "        <td style=\"padding-left: 1em; padding-right: 1em; text-align: center; vertical-align: top\">0</td>\n",
       "        <td style=\"padding-left: 1em; padding-right: 1em; text-align: center; vertical-align: top\">Billy Bob Thornton</td>\n",
       "        <td style=\"padding-left: 1em; padding-right: 1em; text-align: center; vertical-align: top\">0.80306905370844</td>\n",
       "        <td style=\"padding-left: 1em; padding-right: 1em; text-align: center; vertical-align: top\">4</td>\n",
       "    </tr>\n",
       "    <tr>\n",
       "        <td style=\"padding-left: 1em; padding-right: 1em; text-align: center; vertical-align: top\">0</td>\n",
       "        <td style=\"padding-left: 1em; padding-right: 1em; text-align: center; vertical-align: top\">George Clooney</td>\n",
       "        <td style=\"padding-left: 1em; padding-right: 1em; text-align: center; vertical-align: top\">0.8046875</td>\n",
       "        <td style=\"padding-left: 1em; padding-right: 1em; text-align: center; vertical-align: top\">5</td>\n",
       "    </tr>\n",
       "</table>\n",
       "[5 rows x 4 columns]<br/>\n",
       "</div>"
      ],
      "text/plain": [
       "Columns:\n",
       "\tquery_label\tint\n",
       "\treference_label\tstr\n",
       "\tdistance\tfloat\n",
       "\trank\tint\n",
       "\n",
       "Rows: 5\n",
       "\n",
       "Data:\n",
       "+-------------+--------------------+--------------------+------+\n",
       "| query_label |  reference_label   |      distance      | rank |\n",
       "+-------------+--------------------+--------------------+------+\n",
       "|      0      |   Angelina Jolie   |        0.0         |  1   |\n",
       "|      0      |     Brad Pitt      | 0.7840236686390533 |  2   |\n",
       "|      0      |   Julianne Moore   | 0.7958579881656804 |  3   |\n",
       "|      0      | Billy Bob Thornton |  0.80306905370844  |  4   |\n",
       "|      0      |   George Clooney   |     0.8046875      |  5   |\n",
       "+-------------+--------------------+--------------------+------+\n",
       "[5 rows x 4 columns]"
      ]
     },
     "execution_count": 31,
     "metadata": {},
     "output_type": "execute_result"
    }
   ],
   "source": [
    "knn_model.query(jolie)"
   ]
  },
  {
   "cell_type": "code",
   "execution_count": 32,
   "metadata": {},
   "outputs": [],
   "source": [
    "arnold = people[people['name'] == 'Arnold Schwarzenegger']"
   ]
  },
  {
   "cell_type": "code",
   "execution_count": 33,
   "metadata": {},
   "outputs": [
    {
     "data": {
      "text/html": [
       "<pre>Starting pairwise querying.</pre>"
      ],
      "text/plain": [
       "Starting pairwise querying."
      ]
     },
     "metadata": {},
     "output_type": "display_data"
    },
    {
     "data": {
      "text/html": [
       "<pre>+--------------+---------+-------------+--------------+</pre>"
      ],
      "text/plain": [
       "+--------------+---------+-------------+--------------+"
      ]
     },
     "metadata": {},
     "output_type": "display_data"
    },
    {
     "data": {
      "text/html": [
       "<pre>| Query points | # Pairs | % Complete. | Elapsed Time |</pre>"
      ],
      "text/plain": [
       "| Query points | # Pairs | % Complete. | Elapsed Time |"
      ]
     },
     "metadata": {},
     "output_type": "display_data"
    },
    {
     "data": {
      "text/html": [
       "<pre>+--------------+---------+-------------+--------------+</pre>"
      ],
      "text/plain": [
       "+--------------+---------+-------------+--------------+"
      ]
     },
     "metadata": {},
     "output_type": "display_data"
    },
    {
     "data": {
      "text/html": [
       "<pre>| 0            | 1       | 0.00169288  | 8.447ms      |</pre>"
      ],
      "text/plain": [
       "| 0            | 1       | 0.00169288  | 8.447ms      |"
      ]
     },
     "metadata": {},
     "output_type": "display_data"
    },
    {
     "data": {
      "text/html": [
       "<pre>| Done         |         | 100         | 119.445ms    |</pre>"
      ],
      "text/plain": [
       "| Done         |         | 100         | 119.445ms    |"
      ]
     },
     "metadata": {},
     "output_type": "display_data"
    },
    {
     "data": {
      "text/html": [
       "<pre>+--------------+---------+-------------+--------------+</pre>"
      ],
      "text/plain": [
       "+--------------+---------+-------------+--------------+"
      ]
     },
     "metadata": {},
     "output_type": "display_data"
    },
    {
     "data": {
      "text/html": [
       "<div style=\"max-height:1000px;max-width:1500px;overflow:auto;\"><table frame=\"box\" rules=\"cols\">\n",
       "    <tr>\n",
       "        <th style=\"padding-left: 1em; padding-right: 1em; text-align: center\">query_label</th>\n",
       "        <th style=\"padding-left: 1em; padding-right: 1em; text-align: center\">reference_label</th>\n",
       "        <th style=\"padding-left: 1em; padding-right: 1em; text-align: center\">distance</th>\n",
       "        <th style=\"padding-left: 1em; padding-right: 1em; text-align: center\">rank</th>\n",
       "    </tr>\n",
       "    <tr>\n",
       "        <td style=\"padding-left: 1em; padding-right: 1em; text-align: center; vertical-align: top\">0</td>\n",
       "        <td style=\"padding-left: 1em; padding-right: 1em; text-align: center; vertical-align: top\">Arnold Schwarzenegger</td>\n",
       "        <td style=\"padding-left: 1em; padding-right: 1em; text-align: center; vertical-align: top\">0.0</td>\n",
       "        <td style=\"padding-left: 1em; padding-right: 1em; text-align: center; vertical-align: top\">1</td>\n",
       "    </tr>\n",
       "    <tr>\n",
       "        <td style=\"padding-left: 1em; padding-right: 1em; text-align: center; vertical-align: top\">0</td>\n",
       "        <td style=\"padding-left: 1em; padding-right: 1em; text-align: center; vertical-align: top\">Jesse Ventura</td>\n",
       "        <td style=\"padding-left: 1em; padding-right: 1em; text-align: center; vertical-align: top\">0.8189189189189189</td>\n",
       "        <td style=\"padding-left: 1em; padding-right: 1em; text-align: center; vertical-align: top\">2</td>\n",
       "    </tr>\n",
       "    <tr>\n",
       "        <td style=\"padding-left: 1em; padding-right: 1em; text-align: center; vertical-align: top\">0</td>\n",
       "        <td style=\"padding-left: 1em; padding-right: 1em; text-align: center; vertical-align: top\">John Kitzhaber</td>\n",
       "        <td style=\"padding-left: 1em; padding-right: 1em; text-align: center; vertical-align: top\">0.8246153846153846</td>\n",
       "        <td style=\"padding-left: 1em; padding-right: 1em; text-align: center; vertical-align: top\">3</td>\n",
       "    </tr>\n",
       "    <tr>\n",
       "        <td style=\"padding-left: 1em; padding-right: 1em; text-align: center; vertical-align: top\">0</td>\n",
       "        <td style=\"padding-left: 1em; padding-right: 1em; text-align: center; vertical-align: top\">Lincoln Chafee</td>\n",
       "        <td style=\"padding-left: 1em; padding-right: 1em; text-align: center; vertical-align: top\">0.8338762214983714</td>\n",
       "        <td style=\"padding-left: 1em; padding-right: 1em; text-align: center; vertical-align: top\">4</td>\n",
       "    </tr>\n",
       "    <tr>\n",
       "        <td style=\"padding-left: 1em; padding-right: 1em; text-align: center; vertical-align: top\">0</td>\n",
       "        <td style=\"padding-left: 1em; padding-right: 1em; text-align: center; vertical-align: top\">Anthony Foxx</td>\n",
       "        <td style=\"padding-left: 1em; padding-right: 1em; text-align: center; vertical-align: top\">0.8339100346020761</td>\n",
       "        <td style=\"padding-left: 1em; padding-right: 1em; text-align: center; vertical-align: top\">5</td>\n",
       "    </tr>\n",
       "</table>\n",
       "[5 rows x 4 columns]<br/>\n",
       "</div>"
      ],
      "text/plain": [
       "Columns:\n",
       "\tquery_label\tint\n",
       "\treference_label\tstr\n",
       "\tdistance\tfloat\n",
       "\trank\tint\n",
       "\n",
       "Rows: 5\n",
       "\n",
       "Data:\n",
       "+-------------+-----------------------+--------------------+------+\n",
       "| query_label |    reference_label    |      distance      | rank |\n",
       "+-------------+-----------------------+--------------------+------+\n",
       "|      0      | Arnold Schwarzenegger |        0.0         |  1   |\n",
       "|      0      |     Jesse Ventura     | 0.8189189189189189 |  2   |\n",
       "|      0      |     John Kitzhaber    | 0.8246153846153846 |  3   |\n",
       "|      0      |     Lincoln Chafee    | 0.8338762214983714 |  4   |\n",
       "|      0      |      Anthony Foxx     | 0.8339100346020761 |  5   |\n",
       "+-------------+-----------------------+--------------------+------+\n",
       "[5 rows x 4 columns]"
      ]
     },
     "execution_count": 33,
     "metadata": {},
     "output_type": "execute_result"
    }
   ],
   "source": [
    "knn_model.query(arnold)"
   ]
  },
  {
   "cell_type": "code",
   "execution_count": null,
   "metadata": {},
   "outputs": [],
   "source": []
  }
 ],
 "metadata": {
  "kernelspec": {
   "display_name": "Python 3",
   "language": "python",
   "name": "python3"
  },
  "language_info": {
   "codemirror_mode": {
    "name": "ipython",
    "version": 3
   },
   "file_extension": ".py",
   "mimetype": "text/x-python",
   "name": "python",
   "nbconvert_exporter": "python",
   "pygments_lexer": "ipython3",
   "version": "3.7.11"
  }
 },
 "nbformat": 4,
 "nbformat_minor": 2
}
